{
  "cells": [
    {
      "cell_type": "markdown",
      "metadata": {
        "id": "eulvfJWl7ueY"
      },
      "source": [
        "# Lab 1\n",
        "\n",
        "\n",
        "## Part 1: Bilingual dictionary induction and unsupervised embedding-based MT (30%)\n",
        "*Note: this homework is based on materials from yandexdataschool [NLP course](https://github.com/yandexdataschool/nlp_course/). Feel free to check this awesome course if you wish to dig deeper.*\n",
        "\n",
        "*Refined by [Nikolay Karpachev](https://www.linkedin.com/in/nikolay-karpachev-b0146a104/)*"
      ]
    },
    {
      "cell_type": "markdown",
      "metadata": {
        "id": "fV4rIjxa7uei"
      },
      "source": [
        "**In this homework** **<font color='red'>YOU</font>** will make machine translation system without using parallel corpora, alignment, attention, 100500 depth super-cool recurrent neural network and all that kind superstuff.\n",
        "\n",
        "But even without parallel corpora this system can be good enough (hopefully), in particular for similar languages, e.g. Ukrainian and Russian. "
      ]
    },
    {
      "cell_type": "markdown",
      "metadata": {
        "id": "idSYq2GU7uew"
      },
      "source": [
        "### Frament of the Swadesh list for some slavic languages\n",
        "\n",
        "The Swadesh list is a lexicostatistical stuff. It's named after American linguist Morris Swadesh and contains basic lexis. This list are used to define subgroupings of languages, its relatedness.\n",
        "\n",
        "So we can see some kind of word invariance for different Slavic languages.\n",
        "\n",
        "\n",
        "| Russian         | Belorussian              | Ukrainian               | Polish             | Czech                         | Bulgarian            |\n",
        "|-----------------|--------------------------|-------------------------|--------------------|-------------------------------|-----------------------|\n",
        "| женщина         | жанчына, кабета, баба    | жінка                   | kobieta            | žena                          | жена                  |\n",
        "| мужчина         | мужчына                  | чоловік, мужчина        | mężczyzna          | muž                           | мъж                   |\n",
        "| человек         | чалавек                  | людина, чоловік         | człowiek           | člověk                        | човек                 |\n",
        "| ребёнок, дитя   | дзіця, дзіцёнак, немаўля | дитина, дитя            | dziecko            | dítě                          | дете                  |\n",
        "| жена            | жонка                    | дружина, жінка          | żona               | žena, manželka, choť          | съпруга, жена         |\n",
        "| муж             | муж, гаспадар            | чоловiк, муж            | mąż                | muž, manžel, choť             | съпруг, мъж           |\n",
        "| мать, мама      | маці, матка              | мати, матір, неня, мама | matka              | matka, máma, 'стар.' mateř    | майка                 |\n",
        "| отец, тятя      | бацька, тата             | батько, тато, татусь    | ojciec             | otec                          | баща, татко           |\n",
        "| много           | шмат, багата             | багато                  | wiele              | mnoho, hodně                  | много                 |\n",
        "| несколько       | некалькі, колькі         | декілька, кілька        | kilka              | několik, pár, trocha          | няколко               |\n",
        "| другой, иной    | іншы                     | інший                   | inny               | druhý, jiný                   | друг                  |\n",
        "| зверь, животное | жывёла, звер, істота     | тварина, звір           | zwierzę            | zvíře                         | животно               |\n",
        "| рыба            | рыба                     | риба                    | ryba               | ryba                          | риба                  |\n",
        "| птица           | птушка                   | птах, птиця             | ptak               | pták                          | птица                 |\n",
        "| собака, пёс     | сабака                   | собака, пес             | pies               | pes                           | куче, пес             |\n",
        "| вошь            | вош                      | воша                    | wesz               | veš                           | въшка                 |\n",
        "| змея, гад       | змяя                     | змія, гад               | wąż                | had                           | змия                  |\n",
        "| червь, червяк   | чарвяк                   | хробак, черв'як         | robak              | červ                          | червей                |\n",
        "| дерево          | дрэва                    | дерево                  | drzewo             | strom, dřevo                  | дърво                 |\n",
        "| лес             | лес                      | ліс                     | las                | les                           | гора, лес             |\n",
        "| палка           | кій, палка               | палиця                  | patyk, pręt, pałka | hůl, klacek, prut, kůl, pálka | палка, пръчка, бастун |"
      ]
    },
    {
      "cell_type": "markdown",
      "metadata": {
        "id": "cNM3_fjr7ue2"
      },
      "source": [
        "But the context distribution of these languages demonstrates even more invariance. And we can use this fact for our for our purposes."
      ]
    },
    {
      "cell_type": "markdown",
      "metadata": {
        "id": "YLppwa527ue6"
      },
      "source": [
        "## Data"
      ]
    },
    {
      "cell_type": "markdown",
      "metadata": {
        "id": "MwGoVhRA7ufP"
      },
      "source": [
        "In this notebook we're going to use pretrained word vectors - FastText (original paper - https://arxiv.org/abs/1607.04606).\n",
        "\n",
        "You can download them from the official [website](https://fasttext.cc/docs/en/crawl-vectors.html). We're going to need embeddings for Russian and Ukrainian languages."
      ]
    },
    {
      "cell_type": "code",
      "execution_count": 1,
      "metadata": {
        "id": "KV2-MpR-ugq-",
        "colab": {
          "base_uri": "https://localhost:8080/"
        },
        "outputId": "33fb8ba8-c0c5-4bf9-aadd-c588802a55e0"
      },
      "outputs": [
        {
          "output_type": "stream",
          "name": "stdout",
          "text": [
            "File ‘cc.ru.300.vec.gz’ already there; not retrieving.\n",
            "\n",
            "gzip: cc.ru.300.vec already exists; do you wish to overwrite (y or n)? n\n",
            "\tnot overwritten\n",
            "File ‘cc.uk.300.vec.gz’ already there; not retrieving.\n",
            "\n",
            "gzip: cc.uk.300.vec already exists; do you wish to overwrite (y or n)? n\n",
            "\tnot overwritten\n"
          ]
        }
      ],
      "source": [
        "!wget -nc https://dl.fbaipublicfiles.com/fasttext/vectors-crawl/cc.ru.300.vec.gz\n",
        "!gzip -d cc.ru.300.vec.gz\n",
        "\n",
        "!wget -nc https://dl.fbaipublicfiles.com/fasttext/vectors-crawl/cc.uk.300.vec.gz\n",
        "!gzip -d cc.uk.300.vec.gz"
      ]
    },
    {
      "cell_type": "markdown",
      "metadata": {
        "id": "Kwg26PKLv88U"
      },
      "source": [
        "After downloading and extracting the vectors, we should be able to load them using the [gensim](https://radimrehurek.com/gensim/) library:"
      ]
    },
    {
      "cell_type": "code",
      "execution_count": 2,
      "metadata": {
        "id": "u1JjQv_97ufT"
      },
      "outputs": [],
      "source": [
        "from gensim.models import KeyedVectors\n",
        "\n",
        "\n",
        "uk_emb = KeyedVectors.load_word2vec_format(\"cc.uk.300.vec\")\n",
        "ru_emb = KeyedVectors.load_word2vec_format(\"cc.ru.300.vec\")"
      ]
    },
    {
      "cell_type": "markdown",
      "metadata": {
        "id": "Sqb_XJhkMyHM"
      },
      "source": [
        "Once you've loaded the vectors, you can use the `KeyedVectors` interface to get word embeddings and/or query most similar words by embedding:"
      ]
    },
    {
      "cell_type": "code",
      "execution_count": 3,
      "metadata": {
        "id": "nTkXfT0W7ufk",
        "colab": {
          "base_uri": "https://localhost:8080/"
        },
        "outputId": "f630b4da-a07b-4773-df64-4c696c303163"
      },
      "outputs": [
        {
          "output_type": "execute_result",
          "data": {
            "text/plain": [
              "((300,), array([ 0.0033, -0.0322, -0.0519, -0.0808, -0.0131], dtype=float32))"
            ]
          },
          "metadata": {},
          "execution_count": 3
        }
      ],
      "source": [
        "august_embedding = ru_emb[\"август\"]\n",
        "august_embedding.shape, august_embedding[:5]"
      ]
    },
    {
      "cell_type": "code",
      "execution_count": 4,
      "metadata": {
        "id": "oQ2kCq-7NQPn",
        "colab": {
          "base_uri": "https://localhost:8080/"
        },
        "outputId": "b88435b4-d5aa-4e39-8994-e583fcbd889b"
      },
      "outputs": [
        {
          "output_type": "execute_result",
          "data": {
            "text/plain": [
              "[('август', 1.0),\n",
              " ('июль', 0.9383153915405273),\n",
              " ('сентябрь', 0.9240028858184814),\n",
              " ('июнь', 0.9222575426101685),\n",
              " ('октябрь', 0.9095538854598999),\n",
              " ('ноябрь', 0.8930036425590515),\n",
              " ('апрель', 0.8729087114334106),\n",
              " ('декабрь', 0.8652557730674744),\n",
              " ('март', 0.8545796275138855),\n",
              " ('февраль', 0.8401416540145874)]"
            ]
          },
          "metadata": {},
          "execution_count": 4
        }
      ],
      "source": [
        "ru_emb.most_similar([august_embedding])"
      ]
    },
    {
      "cell_type": "markdown",
      "metadata": {
        "id": "t5EcMMI6pxzL"
      },
      "source": [
        "The latter function also allows you to vary the amount of closest words via the `topn` argument:"
      ]
    },
    {
      "cell_type": "code",
      "execution_count": 5,
      "metadata": {
        "id": "bi6AF3z0p9Oo",
        "colab": {
          "base_uri": "https://localhost:8080/"
        },
        "outputId": "3d488009-a0d9-4c07-df67-fa782f723476"
      },
      "outputs": [
        {
          "output_type": "execute_result",
          "data": {
            "text/plain": [
              "[('август', 1.0),\n",
              " ('июль', 0.9383153915405273),\n",
              " ('сентябрь', 0.9240028858184814)]"
            ]
          },
          "metadata": {},
          "execution_count": 5
        }
      ],
      "source": [
        "ru_emb.most_similar([august_embedding], topn=3)"
      ]
    },
    {
      "cell_type": "markdown",
      "metadata": {
        "id": "xw345NRXov4p"
      },
      "source": [
        "Another feature of `KeyedVectors` is that it allows to compute embeddings for multiple words simultaneously:"
      ]
    },
    {
      "cell_type": "code",
      "execution_count": 6,
      "metadata": {
        "id": "86OuYeLYow0C",
        "colab": {
          "base_uri": "https://localhost:8080/"
        },
        "outputId": "22d4a997-74d1-47d1-cf18-563fc1a76b84"
      },
      "outputs": [
        {
          "output_type": "execute_result",
          "data": {
            "text/plain": [
              "(2, 300)"
            ]
          },
          "metadata": {},
          "execution_count": 6
        }
      ],
      "source": [
        "ru_emb[[\"август\", \"сентябрь\"]].shape"
      ]
    },
    {
      "cell_type": "markdown",
      "metadata": {
        "id": "3uGx5zHXQtfo"
      },
      "source": [
        "Everything above is true for the embeddings for Ukrainian language."
      ]
    },
    {
      "cell_type": "code",
      "execution_count": 7,
      "metadata": {
        "id": "vdBA8lcg7ufs",
        "colab": {
          "base_uri": "https://localhost:8080/"
        },
        "outputId": "b220df80-fdcd-455c-979a-c94b2b0bd67c"
      },
      "outputs": [
        {
          "output_type": "execute_result",
          "data": {
            "text/plain": [
              "[('серпень', 0.9999999403953552),\n",
              " ('липень', 0.9096440076828003),\n",
              " ('вересень', 0.901697039604187),\n",
              " ('червень', 0.8992519378662109),\n",
              " ('жовтень', 0.8810408711433411),\n",
              " ('листопад', 0.8787633776664734),\n",
              " ('квітень', 0.8592804670333862),\n",
              " ('грудень', 0.8586863279342651),\n",
              " ('травень', 0.8408110737800598),\n",
              " ('лютий', 0.8256431818008423)]"
            ]
          },
          "metadata": {},
          "execution_count": 7
        }
      ],
      "source": [
        "uk_emb.most_similar([uk_emb[\"серпень\"]])"
      ]
    },
    {
      "cell_type": "markdown",
      "metadata": {
        "id": "F1Dkka5uQ37-"
      },
      "source": [
        "However, russian and ukrainian embeddings were trained independently of each other. This means, that there is no obvious connection between values in embeddings for similar words in Russian and Ukrainian:"
      ]
    },
    {
      "cell_type": "code",
      "execution_count": 8,
      "metadata": {
        "id": "_yJvcKXO7uf0",
        "colab": {
          "base_uri": "https://localhost:8080/"
        },
        "outputId": "353733bb-6b97-4050-bbcf-04f81453deb7"
      },
      "outputs": [
        {
          "output_type": "execute_result",
          "data": {
            "text/plain": [
              "[('Stepashka.com', 0.2757962942123413),\n",
              " ('ЖИЗНИВадим', 0.25203436613082886),\n",
              " ('2Дмитрий', 0.25048112869262695),\n",
              " ('2012Дмитрий', 0.24829231202602386),\n",
              " ('Ведущий-Алексей', 0.2443869560956955),\n",
              " ('Недопустимость', 0.24435284733772278),\n",
              " ('2Михаил', 0.23981399834156036),\n",
              " ('лексей', 0.23740756511688232),\n",
              " ('комплексн', 0.23695150017738342),\n",
              " ('персональ', 0.2368222028017044)]"
            ]
          },
          "metadata": {},
          "execution_count": 8
        }
      ],
      "source": [
        "ru_emb.most_similar([uk_emb[\"серпень\"]])"
      ]
    },
    {
      "cell_type": "markdown",
      "metadata": {
        "id": "Lia_h7W2qL8C"
      },
      "source": [
        "## Translation"
      ]
    },
    {
      "cell_type": "markdown",
      "metadata": {
        "id": "pNdYAR1q7uf6"
      },
      "source": [
        "We'll build a simple translator, which will try to predict the russian embedding from the ukrainian one. For this we'll need a dataset of word pairs."
      ]
    },
    {
      "cell_type": "code",
      "source": [
        "from google.colab import drive\n",
        "drive.mount('/content/drive')"
      ],
      "metadata": {
        "colab": {
          "base_uri": "https://localhost:8080/"
        },
        "id": "U6Z632HU5RmD",
        "outputId": "d62f780c-4872-42d1-84b5-bb411af3dc79"
      },
      "execution_count": 9,
      "outputs": [
        {
          "output_type": "stream",
          "name": "stdout",
          "text": [
            "Drive already mounted at /content/drive; to attempt to forcibly remount, call drive.mount(\"/content/drive\", force_remount=True).\n"
          ]
        }
      ]
    },
    {
      "cell_type": "code",
      "execution_count": 10,
      "metadata": {
        "id": "Kon7ZH6wUYdN",
        "colab": {
          "base_uri": "https://localhost:8080/",
          "height": 242
        },
        "outputId": "0e27c19d-a63c-455c-937c-e8d368010731"
      },
      "outputs": [
        {
          "output_type": "stream",
          "name": "stdout",
          "text": [
            "Train dataset size: 1927\n",
            "Test dataset size: 400\n"
          ]
        },
        {
          "output_type": "execute_result",
          "data": {
            "text/plain": [
              "         uk          ru\n",
              "0  iмовірно    вероятно\n",
              "1     iснує  существует\n",
              "2     iспит     экзамен\n",
              "3     абияк  как-нибудь\n",
              "4       або         или"
            ],
            "text/html": [
              "\n",
              "  <div id=\"df-97f4d279-8c8b-4d3a-aabe-bc1f348ae132\">\n",
              "    <div class=\"colab-df-container\">\n",
              "      <div>\n",
              "<style scoped>\n",
              "    .dataframe tbody tr th:only-of-type {\n",
              "        vertical-align: middle;\n",
              "    }\n",
              "\n",
              "    .dataframe tbody tr th {\n",
              "        vertical-align: top;\n",
              "    }\n",
              "\n",
              "    .dataframe thead th {\n",
              "        text-align: right;\n",
              "    }\n",
              "</style>\n",
              "<table border=\"1\" class=\"dataframe\">\n",
              "  <thead>\n",
              "    <tr style=\"text-align: right;\">\n",
              "      <th></th>\n",
              "      <th>uk</th>\n",
              "      <th>ru</th>\n",
              "    </tr>\n",
              "  </thead>\n",
              "  <tbody>\n",
              "    <tr>\n",
              "      <th>0</th>\n",
              "      <td>iмовірно</td>\n",
              "      <td>вероятно</td>\n",
              "    </tr>\n",
              "    <tr>\n",
              "      <th>1</th>\n",
              "      <td>iснує</td>\n",
              "      <td>существует</td>\n",
              "    </tr>\n",
              "    <tr>\n",
              "      <th>2</th>\n",
              "      <td>iспит</td>\n",
              "      <td>экзамен</td>\n",
              "    </tr>\n",
              "    <tr>\n",
              "      <th>3</th>\n",
              "      <td>абияк</td>\n",
              "      <td>как-нибудь</td>\n",
              "    </tr>\n",
              "    <tr>\n",
              "      <th>4</th>\n",
              "      <td>або</td>\n",
              "      <td>или</td>\n",
              "    </tr>\n",
              "  </tbody>\n",
              "</table>\n",
              "</div>\n",
              "      <button class=\"colab-df-convert\" onclick=\"convertToInteractive('df-97f4d279-8c8b-4d3a-aabe-bc1f348ae132')\"\n",
              "              title=\"Convert this dataframe to an interactive table.\"\n",
              "              style=\"display:none;\">\n",
              "        \n",
              "  <svg xmlns=\"http://www.w3.org/2000/svg\" height=\"24px\"viewBox=\"0 0 24 24\"\n",
              "       width=\"24px\">\n",
              "    <path d=\"M0 0h24v24H0V0z\" fill=\"none\"/>\n",
              "    <path d=\"M18.56 5.44l.94 2.06.94-2.06 2.06-.94-2.06-.94-.94-2.06-.94 2.06-2.06.94zm-11 1L8.5 8.5l.94-2.06 2.06-.94-2.06-.94L8.5 2.5l-.94 2.06-2.06.94zm10 10l.94 2.06.94-2.06 2.06-.94-2.06-.94-.94-2.06-.94 2.06-2.06.94z\"/><path d=\"M17.41 7.96l-1.37-1.37c-.4-.4-.92-.59-1.43-.59-.52 0-1.04.2-1.43.59L10.3 9.45l-7.72 7.72c-.78.78-.78 2.05 0 2.83L4 21.41c.39.39.9.59 1.41.59.51 0 1.02-.2 1.41-.59l7.78-7.78 2.81-2.81c.8-.78.8-2.07 0-2.86zM5.41 20L4 18.59l7.72-7.72 1.47 1.35L5.41 20z\"/>\n",
              "  </svg>\n",
              "      </button>\n",
              "      \n",
              "  <style>\n",
              "    .colab-df-container {\n",
              "      display:flex;\n",
              "      flex-wrap:wrap;\n",
              "      gap: 12px;\n",
              "    }\n",
              "\n",
              "    .colab-df-convert {\n",
              "      background-color: #E8F0FE;\n",
              "      border: none;\n",
              "      border-radius: 50%;\n",
              "      cursor: pointer;\n",
              "      display: none;\n",
              "      fill: #1967D2;\n",
              "      height: 32px;\n",
              "      padding: 0 0 0 0;\n",
              "      width: 32px;\n",
              "    }\n",
              "\n",
              "    .colab-df-convert:hover {\n",
              "      background-color: #E2EBFA;\n",
              "      box-shadow: 0px 1px 2px rgba(60, 64, 67, 0.3), 0px 1px 3px 1px rgba(60, 64, 67, 0.15);\n",
              "      fill: #174EA6;\n",
              "    }\n",
              "\n",
              "    [theme=dark] .colab-df-convert {\n",
              "      background-color: #3B4455;\n",
              "      fill: #D2E3FC;\n",
              "    }\n",
              "\n",
              "    [theme=dark] .colab-df-convert:hover {\n",
              "      background-color: #434B5C;\n",
              "      box-shadow: 0px 1px 3px 1px rgba(0, 0, 0, 0.15);\n",
              "      filter: drop-shadow(0px 1px 2px rgba(0, 0, 0, 0.3));\n",
              "      fill: #FFFFFF;\n",
              "    }\n",
              "  </style>\n",
              "\n",
              "      <script>\n",
              "        const buttonEl =\n",
              "          document.querySelector('#df-97f4d279-8c8b-4d3a-aabe-bc1f348ae132 button.colab-df-convert');\n",
              "        buttonEl.style.display =\n",
              "          google.colab.kernel.accessAllowed ? 'block' : 'none';\n",
              "\n",
              "        async function convertToInteractive(key) {\n",
              "          const element = document.querySelector('#df-97f4d279-8c8b-4d3a-aabe-bc1f348ae132');\n",
              "          const dataTable =\n",
              "            await google.colab.kernel.invokeFunction('convertToInteractive',\n",
              "                                                     [key], {});\n",
              "          if (!dataTable) return;\n",
              "\n",
              "          const docLinkHtml = 'Like what you see? Visit the ' +\n",
              "            '<a target=\"_blank\" href=https://colab.research.google.com/notebooks/data_table.ipynb>data table notebook</a>'\n",
              "            + ' to learn more about interactive tables.';\n",
              "          element.innerHTML = '';\n",
              "          dataTable['output_type'] = 'display_data';\n",
              "          await google.colab.output.renderOutput(dataTable, element);\n",
              "          const docLink = document.createElement('div');\n",
              "          docLink.innerHTML = docLinkHtml;\n",
              "          element.appendChild(docLink);\n",
              "        }\n",
              "      </script>\n",
              "    </div>\n",
              "  </div>\n",
              "  "
            ]
          },
          "metadata": {},
          "execution_count": 10
        }
      ],
      "source": [
        "import pandas as pd\n",
        "\n",
        "\n",
        "# train_data_url = \"https://raw.githubusercontent.com/girafe-ai/ml-mipt/master/homeworks_advanced/Lab1_NLP/uk_ru.train.tsv\"\n",
        "train_data_url = \"/content/drive/MyDrive/NLP/Lab_1/uk_ru.train.tsv\"\n",
        "train_data = pd.read_csv(train_data_url, sep=\"\\t\", header=None)\n",
        "train_data.columns = [\"uk\", \"ru\"]\n",
        "print(f\"Train dataset size: {len(train_data)}\")\n",
        "\n",
        "# test_data_url = \"https://raw.githubusercontent.com/girafe-ai/ml-mipt/master/homeworks_advanced/Lab1_NLP/uk_ru.test.tsv\"\n",
        "test_data_url = \"/content/drive/MyDrive/NLP/Lab_1/uk_ru.test.tsv\"\n",
        "test_data = pd.read_csv(test_data_url, sep=\"\\t\", header=None)\n",
        "test_data.columns = [\"uk\", \"ru\"]\n",
        "print(f\"Test dataset size: {len(test_data)}\")\n",
        "\n",
        "train_data.head()"
      ]
    },
    {
      "cell_type": "markdown",
      "metadata": {
        "id": "DYoXmFPanrwo"
      },
      "source": [
        "Our method won't work with unknown words, so let's filter them out:"
      ]
    },
    {
      "cell_type": "code",
      "execution_count": 11,
      "metadata": {
        "id": "Ls4h2PrplJID",
        "colab": {
          "base_uri": "https://localhost:8080/"
        },
        "outputId": "5f6995cb-c663-498f-babf-9895878ff056"
      },
      "outputs": [
        {
          "output_type": "stream",
          "name": "stdout",
          "text": [
            "Train dataset size: 1880\n",
            "Test dataset size: 393\n"
          ]
        }
      ],
      "source": [
        "rows = []\n",
        "for _, row in train_data.iterrows():\n",
        "    if row[\"uk\"] not in uk_emb or row[\"ru\"] not in ru_emb:\n",
        "        continue\n",
        "\n",
        "    rows.append(row)\n",
        "\n",
        "train_data = pd.DataFrame(rows)\n",
        "print(f\"Train dataset size: {len(train_data)}\")\n",
        "\n",
        "rows = []\n",
        "for _, row in test_data.iterrows():\n",
        "    if row[\"uk\"] not in uk_emb or row[\"ru\"] not in ru_emb:\n",
        "        continue\n",
        "\n",
        "    rows.append(row)\n",
        "\n",
        "test_data = pd.DataFrame(rows)\n",
        "print(f\"Test dataset size: {len(test_data)}\")"
      ]
    },
    {
      "cell_type": "markdown",
      "metadata": {
        "id": "wwjYGFE7Ui0N"
      },
      "source": [
        "We will train our model to predict embedding for the russian word from embedding of its ukrainian counterpart. For this reason we split our train and test data into ukrainian and russian words and compute corresponding embeddings to obtain `X` (ukrainian embeddings) and `y` (russian embeddings)."
      ]
    },
    {
      "cell_type": "code",
      "execution_count": 12,
      "metadata": {
        "id": "WR7v7lvFYWYy"
      },
      "outputs": [],
      "source": [
        "X_train, Y_train = uk_emb[train_data[\"uk\"].values], ru_emb[train_data[\"ru\"].values]\n",
        "X_test, Y_test = uk_emb[test_data[\"uk\"].values], ru_emb[test_data[\"ru\"].values]"
      ]
    },
    {
      "cell_type": "markdown",
      "metadata": {
        "id": "-ZBBNvpz7ugQ"
      },
      "source": [
        "## Embedding space mapping (0.3 pts)"
      ]
    },
    {
      "cell_type": "markdown",
      "metadata": {
        "id": "x_Dhk5gL7ugS"
      },
      "source": [
        "Let $x_i \\in \\mathrm{R}^d$ be the distributed representation of word $i$ in the source language, and $y_i \\in \\mathrm{R}^d$ is the vector representation of its translation. Our purpose is to learn such linear transform $W$ that minimizes euclidian distance between $Wx_i$ and $y_i$ for some subset of word embeddings. Thus we can formulate so-called Procrustes problem:\n",
        "\n",
        "$$W^*= \\arg\\min_W \\sum_{i=1}^n\\|Wx_i - y_i\\|_2$$\n",
        "\n",
        "or\n",
        "\n",
        "$$W^*= \\arg\\min_W \\|XW^T - Y\\|_F$$\n",
        "\n",
        "where $\\|\\cdot\\|_F$ denotes Frobenius norm.\n",
        "\n",
        "> **Note:** in second formula, $W$ and $x$ seem to have switched places. This happens because the $X$ matrix is composed of objects $x_i$ in *rows* not *columns*, i.e. it is kind of composed of $x_i^T$. This means that $X \\in \\mathbb{R}^{N \\times D}$, where $N$ is the number of items and $D$ is the embedding dimensionality. The same is true for the $Y$."
      ]
    },
    {
      "cell_type": "markdown",
      "metadata": {
        "id": "acOjDdtL7ugY"
      },
      "source": [
        "$W^*= \\arg\\min_W \\sum_{i=1}^n\\|Wx_i - y_i\\|_2$ looks like simple multiple linear regression without bias. The `sklearn` allows you to turn off the bias in `LinearRegression` via the `fit_intercept` argument (in fact they simply call bias the intercept). So let's code."
      ]
    },
    {
      "cell_type": "code",
      "execution_count": 13,
      "metadata": {
        "id": "Lb-KN1be7uga"
      },
      "outputs": [],
      "source": [
        "from sklearn.linear_model import LinearRegression\n",
        "\n",
        "\n",
        "# YOUR CODE HERE\n",
        "mapping = LinearRegression(fit_intercept=False).fit(X_train, Y_train)"
      ]
    },
    {
      "cell_type": "markdown",
      "metadata": {
        "id": "X7tqJwoY7ugf"
      },
      "source": [
        "Let's take a look at neigbours of the vector of word _\"серпень\"_ (_\"август\"_ in Russian) after linear transform."
      ]
    },
    {
      "cell_type": "code",
      "execution_count": 14,
      "metadata": {
        "id": "31SrFSbn7ugi",
        "colab": {
          "base_uri": "https://localhost:8080/"
        },
        "outputId": "0c01d59d-dd38-46c0-af19-90445e41f050"
      },
      "outputs": [
        {
          "output_type": "execute_result",
          "data": {
            "text/plain": [
              "[('апрель', 0.8531432747840881),\n",
              " ('июнь', 0.8402522802352905),\n",
              " ('март', 0.8385884165763855),\n",
              " ('сентябрь', 0.8331484794616699),\n",
              " ('февраль', 0.8311208486557007),\n",
              " ('октябрь', 0.8278019428253174),\n",
              " ('ноябрь', 0.8243728280067444),\n",
              " ('июль', 0.8229618072509766),\n",
              " ('август', 0.8112280368804932),\n",
              " ('январь', 0.8022986650466919)]"
            ]
          },
          "metadata": {},
          "execution_count": 14
        }
      ],
      "source": [
        "august = mapping.predict(uk_emb[\"серпень\"].reshape(1, -1))\n",
        "ru_emb.most_similar(august)"
      ]
    },
    {
      "cell_type": "markdown",
      "metadata": {
        "id": "okSkjk597ugo"
      },
      "source": [
        "We can see that neighbourhood of this embedding cosists of different months, but right variant is on the ninth place."
      ]
    },
    {
      "cell_type": "markdown",
      "metadata": {
        "id": "o2uY6Y9B7ugt"
      },
      "source": [
        "As quality measure we will use precision top-1, top-5 and top-10 (for each transformed ukrainian embedding we count how many right target pairs are found in top N nearest neighbours in russian embedding space)."
      ]
    },
    {
      "cell_type": "code",
      "execution_count": 15,
      "metadata": {
        "id": "zptuho8LAfIE"
      },
      "outputs": [],
      "source": [
        "def precision(pairs, mapped_vectors, topn=1):\n",
        "    \"\"\"\n",
        "    :args:\n",
        "        pairs = list of right word pairs [(uk_word_0, ru_word_0), ...]\n",
        "        mapped_vectors = list of embeddings after mapping from source embedding space to destination embedding space\n",
        "        topn = the number of nearest neighbours in destination embedding space to choose from\n",
        "    :returns:\n",
        "        precision_val, float number, total number of words for those we can find right translation at top K.\n",
        "    \"\"\"\n",
        "    assert len(pairs) == len(mapped_vectors)\n",
        "    total = len(pairs)\n",
        "    correct = 0\n",
        "    for i in range(total):\n",
        "        pair = pairs[i]\n",
        "        predicted_vector = mapped_vectors[i]\n",
        "\n",
        "        # YOUR CODE HERE\n",
        "        topn_words = ru_emb.most_similar([predicted_vector], topn=topn)\n",
        "        for j in range(0, topn):\n",
        "            if pair[1] == topn_words[j][0]:\n",
        "                correct += 1\n",
        "\n",
        "    return correct / total"
      ]
    },
    {
      "cell_type": "code",
      "execution_count": 16,
      "metadata": {
        "id": "duhj9hpv7ugy"
      },
      "outputs": [],
      "source": [
        "assert precision([(\"серпень\", \"август\")], august, topn=5) == 0.0\n",
        "assert precision([(\"серпень\", \"август\")], august, topn=9) == 1.0\n",
        "assert precision([(\"серпень\", \"август\")], august, topn=10) == 1.0"
      ]
    },
    {
      "cell_type": "markdown",
      "metadata": {
        "id": "z5A9tWtnuFx3"
      },
      "source": [
        "Note that our `precision` function accepts lists of pairs of words, whereas we have dataframes. However, it is not a problem: we can get a list (actually, numpy array) of pairs via the `values` property."
      ]
    },
    {
      "cell_type": "code",
      "execution_count": 17,
      "metadata": {
        "id": "0-iyd5gP7ug5"
      },
      "outputs": [],
      "source": [
        "assert precision(test_data.values, X_test) == 0.0\n",
        "assert precision(test_data.values, Y_test) == 1.0"
      ]
    },
    {
      "cell_type": "markdown",
      "metadata": {
        "id": "7DVV5lqrua_O"
      },
      "source": [
        "Let's see how well our model is doing."
      ]
    },
    {
      "cell_type": "code",
      "execution_count": 18,
      "metadata": {
        "id": "U-ssEJ3x7uhA",
        "colab": {
          "base_uri": "https://localhost:8080/"
        },
        "outputId": "51e9d825-aef2-4bc5-d9f9-13f0b871ee2a"
      },
      "outputs": [
        {
          "output_type": "stream",
          "name": "stdout",
          "text": [
            "Top-1 precision 62.8%\n",
            "Top-5 precision 79.1%\n"
          ]
        }
      ],
      "source": [
        "top1 = precision(test_data.values, mapping.predict(X_test), 1)\n",
        "print(f\"Top-1 precision {100 * top1:.1f}%\")\n",
        "\n",
        "top5 = precision(test_data.values, mapping.predict(X_test), 5)\n",
        "print(f\"Top-5 precision {100 * top5:.1f}%\")"
      ]
    },
    {
      "cell_type": "markdown",
      "metadata": {
        "id": "hf6Ou8bx7uhH"
      },
      "source": [
        "## Making it better (orthogonal Procrustean problem) (0.3 pts)"
      ]
    },
    {
      "cell_type": "markdown",
      "metadata": {
        "id": "4oLs-drN7uhK"
      },
      "source": [
        "It can be shown that a self-consistent linear mapping between semantic spaces should be orthogonal. \n",
        "We can restrict transform $W$ to be orthogonal. Then we will solve next problem:\n",
        "\n",
        "$$(W^T)^*= \\arg\\min_{W^T} \\|XW^T - Y\\|_F \\text{, where: } W^TW = I$$\n",
        "\n",
        "$$I \\text{- identity matrix}$$\n",
        "\n",
        "Instead of making yet another regression problem we can find optimal orthogonal transformation using singular value decomposition. It turns out that optimal transformation $W^*$ can be expressed via SVD components:\n",
        "$$X^TY=U\\Sigma V^T\\text{, singular value decompostion}$$\n",
        "$$(W^T)^*=UV^T$$"
      ]
    },
    {
      "cell_type": "code",
      "execution_count": 19,
      "metadata": {
        "id": "DdFQ7qti7uhL"
      },
      "outputs": [],
      "source": [
        "import numpy as np\n",
        "\n",
        "\n",
        "# YOUR CODE HERE\n",
        "# Compute the orthogonal mapping (W^T)^* as defined in formula above.\n",
        "U, Sigma, VT = np.linalg.svd(X_train.T @ Y_train)\n",
        "mapping = U @ VT"
      ]
    },
    {
      "cell_type": "markdown",
      "metadata": {
        "id": "sehLFmlBysc-"
      },
      "source": [
        "Now our `mapping` is just a numpy array, meaning that it has no `predict` method. However, from the formulae above we know, that prediction is done using the matrix multiplication:"
      ]
    },
    {
      "cell_type": "code",
      "execution_count": 20,
      "metadata": {
        "id": "OVOFYYa37uhX",
        "colab": {
          "base_uri": "https://localhost:8080/"
        },
        "outputId": "93f579ad-e765-4b4c-da71-6ffbb6d9af84"
      },
      "outputs": [
        {
          "output_type": "execute_result",
          "data": {
            "text/plain": [
              "[('апрель', 0.8245131969451904),\n",
              " ('июнь', 0.805662989616394),\n",
              " ('сентябрь', 0.8055761456489563),\n",
              " ('март', 0.8032935261726379),\n",
              " ('октябрь', 0.7987102270126343),\n",
              " ('июль', 0.7946797013282776),\n",
              " ('ноябрь', 0.7939636707305908),\n",
              " ('август', 0.7938189506530762),\n",
              " ('февраль', 0.7923861145973206),\n",
              " ('декабрь', 0.7715375423431396)]"
            ]
          },
          "metadata": {},
          "execution_count": 20
        }
      ],
      "source": [
        "august = uk_emb[\"серпень\"] @ mapping\n",
        "ru_emb.most_similar([august])"
      ]
    },
    {
      "cell_type": "markdown",
      "metadata": {
        "id": "h4qKCmq7zJDK"
      },
      "source": [
        "Now let's compute our precision values and see, whether our trick did improve the results."
      ]
    },
    {
      "cell_type": "code",
      "execution_count": 21,
      "metadata": {
        "id": "r297sYP37uhb",
        "colab": {
          "base_uri": "https://localhost:8080/"
        },
        "outputId": "497a191a-559f-409e-ee7b-5052a2d5fb51"
      },
      "outputs": [
        {
          "output_type": "stream",
          "name": "stdout",
          "text": [
            "Top-1 precision 64.4%\n",
            "Top-5 precision 79.9%\n"
          ]
        }
      ],
      "source": [
        "top1 = precision(test_data.values, X_test @ mapping, 1)\n",
        "print(f\"Top-1 precision {100 * top1:.1f}%\")\n",
        "\n",
        "top5 = precision(test_data.values, X_test @ mapping, 5)\n",
        "print(f\"Top-5 precision {100 * top5:.1f}%\")"
      ]
    },
    {
      "cell_type": "markdown",
      "metadata": {
        "id": "hvUZ72U5AfJg"
      },
      "source": [
        "## Unsupervised embedding-based MT (0.4 pts)"
      ]
    },
    {
      "cell_type": "markdown",
      "metadata": {
        "id": "LLyuVfHBLrJn"
      },
      "source": [
        "Now, let's build our word embeddings-based translator!"
      ]
    },
    {
      "cell_type": "markdown",
      "metadata": {
        "id": "tPAURW1CMuP7"
      },
      "source": [
        "Firstly, download OPUS Tatoeba corpus."
      ]
    },
    {
      "cell_type": "code",
      "execution_count": 22,
      "metadata": {
        "id": "F80kUKzQMsDu",
        "colab": {
          "base_uri": "https://localhost:8080/"
        },
        "outputId": "f8f86dfd-c3ff-4f5d-ecdf-f140e8c4a3b4"
      },
      "outputs": [
        {
          "output_type": "stream",
          "name": "stdout",
          "text": [
            "--2022-04-07 15:32:27--  https://object.pouta.csc.fi/OPUS-Tatoeba/v20190709/mono/uk.txt.gz\n",
            "Resolving object.pouta.csc.fi (object.pouta.csc.fi)... 86.50.254.18, 86.50.254.19\n",
            "Connecting to object.pouta.csc.fi (object.pouta.csc.fi)|86.50.254.18|:443... connected.\n",
            "HTTP request sent, awaiting response... 200 OK\n",
            "Length: 1819128 (1.7M) [application/gzip]\n",
            "Saving to: ‘uk.txt.gz.1’\n",
            "\n",
            "uk.txt.gz.1         100%[===================>]   1.73M  6.03MB/s    in 0.3s    \n",
            "\n",
            "2022-04-07 15:32:28 (6.03 MB/s) - ‘uk.txt.gz.1’ saved [1819128/1819128]\n",
            "\n",
            "gzip: ./uk.txt already exists; do you wish to overwrite (y or n)? n\n",
            "\tnot overwritten\n"
          ]
        }
      ],
      "source": [
        "!wget https://object.pouta.csc.fi/OPUS-Tatoeba/v20190709/mono/uk.txt.gz\n",
        "!gzip -d ./uk.txt.gz"
      ]
    },
    {
      "cell_type": "code",
      "execution_count": 23,
      "metadata": {
        "id": "2MV3VvoVUX5U",
        "colab": {
          "base_uri": "https://localhost:8080/"
        },
        "outputId": "88bad25c-abc8-476d-b9bc-a3291e58e669"
      },
      "outputs": [
        {
          "output_type": "execute_result",
          "data": {
            "text/plain": [
              "['Я вже закінчу коледж, коли ви вернетеся з Америки.\\n',\n",
              " 'Він наказав мені негайно вийти з кімнати.\\n',\n",
              " 'Як би ти не намагався, ти не вивчиш англійську за два-три місяці.\\n',\n",
              " 'Поки я не подзвонив, він не прийшов.\\n',\n",
              " 'У всесвіті багато галактик.\\n']"
            ]
          },
          "metadata": {},
          "execution_count": 23
        }
      ],
      "source": [
        "with open('./uk.txt', 'r') as f:\n",
        "    uk_corpus = f.readlines()\n",
        "\n",
        "# To save your time and CPU, feel free to use first 1000 sentences of the corpus\n",
        "uk_corpus = uk_corpus[:1000]\n",
        "uk_corpus[:5]"
      ]
    },
    {
      "cell_type": "markdown",
      "metadata": {
        "id": "oa3dAZHv1wjY"
      },
      "source": [
        "Now let's translate these sentences word-by-word. Before that, however, don't forget to tokenize your sentences. For that you may (or may not) find the `nltk.tokenize.WordPunctTokenizer` to be very useful."
      ]
    },
    {
      "cell_type": "code",
      "execution_count": 24,
      "metadata": {
        "id": "FGksC7l_NMi9"
      },
      "outputs": [],
      "source": [
        "from nltk.tokenize import WordPunctTokenizer\n",
        "tokenizer = WordPunctTokenizer()\n",
        "def translate(sentence):\n",
        "    \"\"\"\n",
        "    :args:\n",
        "        sentence - sentence in Ukrainian (str)\n",
        "    :returns:\n",
        "        translation - sentence in Russian (str)\n",
        "\n",
        "    * find ukrainian embedding for each word in sentence\n",
        "    * transform ukrainian embedding vector\n",
        "    * find nearest russian word and replace\n",
        "    \"\"\"\n",
        "    translated = []\n",
        "\n",
        "    # YOUR CODE HERE\n",
        "    unk_word = \"<UNK>\"\n",
        "    preprocess = lambda sentence: tokenizer.tokenize(sentence)#.lower())\n",
        "    for word in preprocess(sentence):\n",
        "        if word not in uk_emb:\n",
        "            translated.append(unk_word)\n",
        "            continue\n",
        "        word_ru_emb = uk_emb[word] @ mapping\n",
        "        translated.append(ru_emb.most_similar([word_ru_emb], topn=1)[0][0])\n",
        "\n",
        "    return \" \".join(translated)"
      ]
    },
    {
      "cell_type": "code",
      "execution_count": 25,
      "metadata": {
        "id": "4hbbMy-tNxlf"
      },
      "outputs": [],
      "source": [
        "assert translate(\".\") == \".\"\n",
        "assert translate(\"1 , 3\") == \"1 , 3\"\n",
        "assert translate(\"кіт зловив мишу\") == \"кот поймал мышку\""
      ]
    },
    {
      "cell_type": "markdown",
      "metadata": {
        "id": "ia6I2ce7O_HI"
      },
      "source": [
        "Now you can play with your model and try to get as accurate translations as possible. **Note**: one big issue is out-of-vocabulary words. Try to think of various ways of handling it (you can start with translating each of them to a special **UNK** token and then move to more sophisticated approaches). Good luck!"
      ]
    },
    {
      "cell_type": "code",
      "source": [
        "for sent in uk_corpus[::10]:\n",
        "    print(translate(sent))"
      ],
      "metadata": {
        "colab": {
          "base_uri": "https://localhost:8080/"
        },
        "id": "a1AQBGGKbgfc",
        "outputId": "a80f918e-dbb5-4287-a320-50fd44ac7e01"
      },
      "execution_count": 26,
      "outputs": [
        {
          "output_type": "stream",
          "name": "stdout",
          "text": [
            "Я уже закончу колледж , когда мы прибежишь со Америки .\n",
            "Город бомбили враждебные самолеты .\n",
            "Возможно , мной антисоциальный , конечно это не означает , что мной не общаюсь со людьми .\n",
            "Впрочем утра выпала роса .\n",
            "Беда не приходит одна .\n",
            "Посмотри по тот дым .\n",
            "Я заказал два гамбургера .\n",
            "Я не хотел никого обидеть .\n",
            "Гора покрыта снегом .\n",
            "по фотографии во девушки корона не со золота , а со цветов .\n",
            "Во меня То мечта .\n",
            "Я приехал во Японию со Китая .\n",
            "по север находится Шотландия ; по юге — Англия ; по востоке — Уэльс ; и ещe дальше по востоке — северная Ирландия .\n",
            "Его родная страна — Германия .\n",
            "Берн — столица Швейцарии .\n",
            "Он ждал по него к десятой часа .\n",
            "Ты можешь взять ту книгу даром .\n",
            "Такой роман сочинил известный американский писатель .\n",
            "забронировать , будте ласковые , комнату возле международного аэропорта во Торонто .\n",
            "Он знает , что ты его влюбится ?\n",
            "Я знаю , что ты богатый .\n",
            "Те , кто всё забывают , счастливые .\n",
            "Во этой реке опасно плавать .\n",
            "пришел , увидел , победил .\n",
            "Я хожу к школы пешком .\n",
            "Не моя дело !\n",
            "Не забудь билет .\n",
            "Кто он ?\n",
            "Вы будете чай ли кофе ?\n",
            "Он не пойдет по пикник , как и мной .\n",
            "Когда Вы родились ?\n",
            "Это моя любимая песня .\n",
            "мы почти семь со мной .\n",
            "Какой красивый сегодня месяц !\n",
            "Я против любой – которых войны .\n",
            "поверхность воздушной шары — <UNK> пространство , потому для неё не выполняются правила симметрической геометрии .\n",
            "Говорят , что американцы считают количество денег , какую зарабатывает женщина , мерилом его умение .\n",
            "Можно мной <UNK> это платье ?\n",
            "Если будет красивая погода , мы доберёмся туда завтра .\n",
            "Это был злой заяц .\n",
            "Один , два , три , четыре , аш со пять , восемь , семь , восемь , девять со пять , десять .\n",
            "Кто во любви не знает , тот горя не знает .\n",
            "Его иметь волнуется за него .\n",
            "Я уважаю тех , кто старается со всех сил .\n",
            "необычайная дружба переросла во глубокое любовь .\n",
            "Рейчел аш со То много молока каждый день .\n",
            "Он вор .\n",
            "<UNK> загрязнение можно было бы <UNK> только если бы люди были более чувствительны к окружающей среды .\n",
            "чай со лимоном , будте ласковые .\n",
            "Не путать желание со влюбленностью .\n",
            "Я бы со удовольствием сочинил сотни сложноподчинённые во <UNK> со и , конечно во меня То дела .\n",
            "Дайте мне чашечку кофе .\n",
            "ведь же ты никогда мне о это не рассказывала !\n",
            "Во тебя будут проблемы , если твои родители узнают .\n",
            "Запах роз наполнил комнату .\n",
            "Как во тебя дела ?\n",
            "Это мои штаны .\n",
            "НЕт , спасибо .\n",
            "Я не понимаю , почему Германия победила по Евровидении .\n",
            "Добрый вечер .\n",
            "Со <UNK> Алексея Палашка поприветствовал президент Белоруссии Александр Лукашенко .\n",
            "Млечный путь — широкий пояс со далеких звёзд , каждая звезда — солнце , такое как наше .\n",
            "удивительно видеть рок – звёзд со галстук !\n",
            "всё печенье во форме звёзд .\n",
            "ЧТо мне одеть — штаны ли юбку ?\n",
            "Краусс утверждал — известный московский скульптор .\n",
            "Ой был злой кролик .\n",
            "Можешь взять любой – который , что тебе к отвратиться .\n",
            "Конечно мной пойду .\n",
            "шелковичные прядут коконы .\n",
            "ЧТо бы ты сделала , если бы во тебя было , замечу , десять тысяч долларов ?\n",
            "Он думает , что он кто-то , а действительно он никто .\n",
            "она очень гордится своею коллекцией марок .\n",
            "Он очень простой ...\n",
            "Какая ты добра !\n",
            "Как мной за тобой соскучился !\n",
            "Это всё , что мной знаю .\n",
            "Ты ведёшь дневник ?\n",
            "Тебе решать .\n",
            "Это почта , а то — банк .\n",
            "Это всё , что мной хочу сделать .\n",
            "Я впервые смотрю такой страшный фильм .\n",
            "Этa песня напоминает мне о дом .\n",
            "Хироси здесь ?\n",
            "Меня зовут Эдди .\n",
            "Как женщина живет , так она и умрет .\n",
            "Я здесь уже две часа .\n",
            "Мне надо извиниться перед Нб .\n",
            "Сегодня мной видел скворца .\n",
            "« Сколько стоить та носовая косыночка <UNK> — « тринадцать со двадцать аш со пять центов <UNK>\n",
            "солдаты медведи , как правило , очень опасные .\n",
            "Он быстро устает .\n",
            "остальные готовы .\n",
            "Он скучает по своей семь со мье .\n",
            "« Спасибо <UNK> — « по здоровье со мной <UNK>\n",
            "Я ещe не знаю своего адреса , мной определенный момент буду жить во подруги .\n",
            "Амазонка — вторая по длине река во мире после Нила .\n",
            "А если увидишь Тима , передай ему от меня поздравления .\n",
            "закрой за собой дверь .\n",
            "Держи при себе словарь .\n"
          ]
        }
      ]
    },
    {
      "cell_type": "markdown",
      "source": [
        "Проанализируем непереведенные слова"
      ],
      "metadata": {
        "id": "qH4EYEWabm5H"
      }
    },
    {
      "cell_type": "code",
      "source": [
        "import re\n",
        "unk_words = set()\n",
        "for sentence in uk_corpus:\n",
        "    for word in  re.findall(r\"[\\w']+|[.,!?;]\", ' '.join(tokenizer.tokenize(sentence))):\n",
        "        if word not in uk_emb:\n",
        "            unk_words.add(word)\n",
        "print(len(unk_words))\n",
        "print(unk_words)"
      ],
      "metadata": {
        "colab": {
          "base_uri": "https://localhost:8080/"
        },
        "id": "UPW2mE5PVw4S",
        "outputId": "5533232f-9d3f-4d6d-e131-53471158e8d4"
      },
      "execution_count": 27,
      "outputs": [
        {
          "output_type": "stream",
          "name": "stdout",
          "text": [
            "40\n",
            "{'краплистою', 'Дошкульний', 'скучатиму', 'дівчіна', 'Туалетного', 'Сипати', 'Розповсюджуйте', 'примірю', 'удамо', 'Поїдзка', 'Крілики', 'розхльобуй', 'англійськіх', 'Заздрять', 'позбігнути', 'Шумового', 'Tatoeb', 'Tatoeba', 'прибиральня', 'минилу', 'Мініспідниці', 'вчитимуся', 'Трасянку', 'ниряємо', 'юбілеєм', 'Обдумай', 'Іноди', 'нюношка', 'коштовнішого', 'неевклідовий', 'нюношку', 'подобавляти', 'прокомпостуйте', 'спростуваті', 'зневолення', 'ятьдесять', 'Сказаного', 'найабсурдніша', 'Маюко', 'Ганусина'}\n"
          ]
        }
      ]
    },
    {
      "cell_type": "code",
      "source": [
        "#!pip install pymorphy2\n",
        "#!pip install -U pymorphy2-dicts-ru\n",
        "#!pip install -U pymorphy2-dicts-uk"
      ],
      "metadata": {
        "id": "eVYXOgZYYXHI"
      },
      "execution_count": 28,
      "outputs": []
    },
    {
      "cell_type": "code",
      "source": [
        "import pymorphy2\n",
        "morph = pymorphy2.MorphAnalyzer(lang='uk')\n",
        "unk_words = set()\n",
        "for sentence in uk_corpus:\n",
        "    for word in re.findall(r\"[\\w']+|[.,!?;]\", ' '.join(tokenizer.tokenize(sentence))):\n",
        "        if word not in uk_emb:\n",
        "            word = morph.parse(word)[0].normalized.word  # приведем слово к нормальной форме\n",
        "        if word not in uk_emb:\n",
        "            word = word.replace('\\'', '')  # уберем '\n",
        "        if word not in uk_emb:\n",
        "            word = word.replace('і', 'и')  # попробуем заменить i на и\n",
        "            if word in ru_emb:\n",
        "                continue\n",
        "        if not word in uk_emb:\n",
        "            unk_words.add(word)\n",
        "print(len(unk_words))\n",
        "print(unk_words)"
      ],
      "metadata": {
        "colab": {
          "base_uri": "https://localhost:8080/"
        },
        "id": "w-ZpPsSGXuHS",
        "outputId": "153a6f9e-f442-4f40-8f55-24b5be6b7103"
      },
      "execution_count": 29,
      "outputs": [
        {
          "output_type": "stream",
          "name": "stdout",
          "text": [
            "17\n",
            "{'найабсурдниший', 'подобавляти', 'неевклидовий', 'ганусин', 'миниспидниця', 'маюка', 'позбигнути', 'трасянко', 'минилий', 'поїдзка', 'спростуватий', 'tatoeba', 'зневолення', 'ятьдесять', 'прибиральня', 'нюношка', 'tatoeb'}\n"
          ]
        }
      ]
    },
    {
      "cell_type": "code",
      "source": [
        "def translate(sentence):\n",
        "    \"\"\"\n",
        "    :args:\n",
        "        sentence - sentence in Ukrainian (str)\n",
        "    :returns:\n",
        "        translation - sentence in Russian (str)\n",
        "\n",
        "    * find ukrainian embedding for each word in sentence\n",
        "    * transform ukrainian embedding vector\n",
        "    * find nearest russian word and replace\n",
        "    \"\"\"\n",
        "    translated = []\n",
        "\n",
        "    # YOUR CODE HERE\n",
        "    unk_word = \"<UNK>\"\n",
        "    preprocess = lambda sentence: tokenizer.tokenize(sentence)#.lower())\n",
        "    #for word in preprocess(sentence):\n",
        "    for word in re.findall(r\"[\\w']+|[.,!?;]\", ' '.join(tokenizer.tokenize(sentence))):\n",
        "        if word not in uk_emb:\n",
        "            word = morph.parse(word)[0].normalized.word  # приведем слово к нормальной форме\n",
        "        if word not in uk_emb:\n",
        "            word = word.replace('\\'', '')  # уберем '\n",
        "        if word not in uk_emb:\n",
        "            word = word.replace('і', 'и')  # попробуем заменить i на и\n",
        "            if word in ru_emb:\n",
        "                word_ru_emb = word\n",
        "        elif word in uk_emb:\n",
        "            word_ru_emb = uk_emb[word] @ mapping\n",
        "        else:\n",
        "            translated.append(unk_word)\n",
        "            continue\n",
        "        \n",
        "        translated.append(ru_emb.most_similar([word_ru_emb], topn=1)[0][0])\n",
        "\n",
        "    return \" \".join(translated)"
      ],
      "metadata": {
        "id": "F6_0lZkZaRGX"
      },
      "execution_count": 30,
      "outputs": []
    },
    {
      "cell_type": "code",
      "execution_count": 31,
      "metadata": {
        "id": "ap1W7ZCeOAVU",
        "colab": {
          "base_uri": "https://localhost:8080/"
        },
        "outputId": "fa4c294f-8a6e-4930-d72f-e1dd5d104d11"
      },
      "outputs": [
        {
          "output_type": "stream",
          "name": "stdout",
          "text": [
            "Я уже закончу колледж , когда мы прибежишь со Америки .\n",
            "Город бомбили враждебные самолеты .\n",
            "Возможно , мной антисоциальный , конечно это не означает , что мной не общаюсь со людьми .\n",
            "Впрочем утра выпала роса .\n",
            "Беда не приходит одна .\n",
            "Посмотри по тот дым .\n",
            "Я заказал два гамбургера .\n",
            "Я не хотел никого обидеть .\n",
            "Гора покрыта снегом .\n",
            "по фотографии во девушки корона не со золота , а со цветов .\n",
            "Во меня То мечта .\n",
            "Я приехал во Японию со Китая .\n",
            "по север находится Шотландия ; по юге Англия ; по востоке Уэльс ; и ещe дальше по востоке северная Ирландия .\n",
            "Его родная страна Германия .\n",
            "Берн столица Швейцарии .\n",
            "Он ждал по него к десятой часа .\n",
            "Ты можешь взять ту книгу даром .\n",
            "Такой роман сочинил известный американский писатель .\n",
            "забронировать , будте ласковые , комнату возле международного аэропорта во Торонто .\n",
            "Он знает , что ты его влюбится ?\n",
            "Я знаю , что ты богатый .\n",
            "Те , кто всё забывают , счастливые .\n",
            "Во этой реке опасно плавать .\n",
            "пришел , увидел , победил .\n",
            "Я хожу к школы пешком .\n",
            "Не моя дело !\n",
            "Не забудь билет .\n",
            "Кто он ?\n",
            "Вы будете чай ли кофе ?\n",
            "Он не пойдет по пикник , как и мной .\n",
            "Когда Вы родились ?\n",
            "Это моя любимая песня .\n",
            "мы почти семь мной .\n",
            "Какой красивый сегодня месяц !\n",
            "Я против любой которых войны .\n",
            "поверхность воздушной шары шары пространство , потому для неё не выполняются правила симметрической геометрии .\n",
            "Говорят , что американцы считают количество денег , какую зарабатывает женщина , мерилом его умение .\n",
            "Можно мной примерять это платье ?\n",
            "Если будет красивая погода , мы доберёмся туда завтра .\n",
            "Это был злой заяц .\n",
            "Один , два , три , четыре , аш со пять , восемь , семь , восемь , девять со пять , десять .\n",
            "Кто во любви не знает , тот горя не знает .\n",
            "Его иметь волнуется за него .\n",
            "Я уважаю тех , кто старается со всех сил .\n",
            "необычайная дружба переросла во глубокое любовь .\n",
            "Рейчел аш То много молока каждый день .\n",
            "Он вор .\n",
            "шумовой загрязнение можно было бы бы только если бы люди были более чувствительны к окружающей среды .\n",
            "чай со лимоном , будте ласковые .\n",
            "Не путать желание со влюбленностью .\n",
            "Я бы со удовольствием сочинил сотни сложноподчинённые во во и , конечно во меня То дела .\n",
            "Дайте мне чашечку кофе .\n",
            "ведь же ты никогда мне о это не рассказывала !\n",
            "Во тебя будут проблемы , если твои родители узнают .\n",
            "Запах роз наполнил комнату .\n",
            "Как во тебя дела ?\n",
            "Это мои штаны .\n",
            "НЕт , спасибо .\n",
            "Я не понимаю , почему Германия победила по Евровидении .\n",
            "Добрый вечер .\n",
            "Со юбилей Алексея Палашка поприветствовал президент Белоруссии Александр Лукашенко .\n",
            "Млечный путь широкий пояс со далеких звёзд , каждая звезда солнце , такое как наше .\n",
            "удивительно видеть рок звёзд со галстук !\n",
            "всё печенье во форме звёзд .\n",
            "ЧТо мне одеть штаны ли юбку ?\n",
            "Краусс утверждал известный московский скульптор .\n",
            "Ой был злой кролик .\n",
            "Можешь взять любой который , что тебе к отвратиться .\n",
            "Конечно мной пойду .\n",
            "шелковичные прядут коконы .\n",
            "ЧТо бы ты сделала , если бы во тебя было , замечу , десять тысяч долларов ?\n",
            "Он думает , что он кто-то , а действительно он никто .\n",
            "она очень гордится своею коллекцией марок .\n",
            "Он очень простой . . .\n",
            "Какая ты добра !\n",
            "Как мной за тобой соскучился !\n",
            "Это всё , что мной знаю .\n",
            "Ты ведёшь дневник ?\n",
            "Тебе решать .\n",
            "Это почта , а то банк .\n",
            "Это всё , что мной хочу сделать .\n",
            "Я впервые смотрю такой страшный фильм .\n",
            "Этa песня напоминает мне о дом .\n",
            "Хироси здесь ?\n",
            "Меня зовут Эдди .\n",
            "Как женщина живет , так она и умрет .\n",
            "Я здесь уже две часа .\n",
            "Мне надо извиниться перед Нб .\n",
            "Сегодня мной видел скворца .\n",
            "Сколько стоить та носовая косыночка ? тринадцать со двадцать аш со пять центов .\n",
            "солдаты медведи , как правило , очень опасные .\n",
            "Он быстро устает .\n",
            "остальные готовы .\n",
            "Он скучает по своей семь со мье .\n",
            "Спасибо , по здоровье со мной .\n",
            "Я ещe не знаю своего адреса , мной определенный момент буду жить во подруги .\n",
            "Амазонка вторая по длине река во мире после Нила .\n",
            "А если увидишь Тима , передай ему от меня поздравления .\n",
            "закрой за собой дверь .\n",
            "Держи при себе словарь .\n"
          ]
        }
      ],
      "source": [
        "for sent in uk_corpus[::10]:\n",
        "    print(translate(sent))"
      ]
    },
    {
      "cell_type": "markdown",
      "metadata": {
        "id": "PXMxWUtipDD8"
      },
      "source": [
        "Great! \n",
        "See second notebook for the Neural Machine Translation assignment."
      ]
    }
  ],
  "metadata": {
    "anaconda-cloud": {},
    "colab": {
      "collapsed_sections": [],
      "machine_shape": "hm",
      "name": "Lab1_NLP_part1_Embedding_based_MT.ipynb",
      "provenance": [],
      "toc_visible": true
    },
    "kernelspec": {
      "display_name": "Python 3 (ipykernel)",
      "language": "python",
      "name": "python3"
    },
    "language_info": {
      "codemirror_mode": {
        "name": "ipython",
        "version": 3
      },
      "file_extension": ".py",
      "mimetype": "text/x-python",
      "name": "python",
      "nbconvert_exporter": "python",
      "pygments_lexer": "ipython3",
      "version": "3.7.0"
    }
  },
  "nbformat": 4,
  "nbformat_minor": 0
}