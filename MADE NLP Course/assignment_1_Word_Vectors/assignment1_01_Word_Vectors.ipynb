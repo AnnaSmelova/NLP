{
  "cells": [
    {
      "cell_type": "markdown",
      "metadata": {
        "id": "ExohC_T5eh0b"
      },
      "source": [
        "## Assignment 01. Simple text processing."
      ]
    },
    {
      "cell_type": "code",
      "source": [
        "from google.colab import drive\n",
        "drive.mount('/content/drive')"
      ],
      "metadata": {
        "colab": {
          "base_uri": "https://localhost:8080/"
        },
        "id": "ZlxKa6XGezKF",
        "outputId": "d35485df-2742-40a1-a9b0-70d0a4c3ebde"
      },
      "execution_count": 1,
      "outputs": [
        {
          "output_type": "stream",
          "name": "stdout",
          "text": [
            "Drive already mounted at /content/drive; to attempt to forcibly remount, call drive.mount(\"/content/drive\", force_remount=True).\n"
          ]
        }
      ]
    },
    {
      "cell_type": "code",
      "execution_count": 2,
      "metadata": {
        "id": "onZLzLp0eh0d"
      },
      "outputs": [],
      "source": [
        "import numpy as np\n",
        "import matplotlib.pyplot as plt\n",
        "%matplotlib inline\n",
        "import pandas as pd\n",
        "from IPython import display"
      ]
    },
    {
      "cell_type": "markdown",
      "metadata": {
        "id": "rV74gai0eh0f"
      },
      "source": [
        "### Toxic or not\n",
        "Your main goal in this assignment is to classify, whether the comments are toxic or not. And practice with both classical approaches and PyTorch in the process.\n",
        "\n",
        "*Credits: This homework is inspired by YSDA NLP_course.*"
      ]
    },
    {
      "cell_type": "code",
      "execution_count": 3,
      "metadata": {
        "id": "L8qvcz_meh0f"
      },
      "outputs": [],
      "source": [
        "# In colab run this cell\n",
        "#! wget https://raw.githubusercontent.com/girafe-ai/ml-mipt/advanced_s21/homeworks_advanced/assignment1_01_Word_Vectors/utils.py -nc\n",
        "#! wget https://raw.githubusercontent.com/girafe-ai/ml-mipt/advanced_s21/homeworks_advanced/assignment1_01_Word_Vectors/features.py -nc"
      ]
    },
    {
      "cell_type": "code",
      "source": [
        "! cp /content/drive/MyDrive/NLP/Assignment_1/utils.py .\n",
        "! cp /content/drive/MyDrive/NLP/Assignment_1/features.py .\n",
        "! touch /content/drive/MyDrive/NLP/Assignment_1/comments.tsv ."
      ],
      "metadata": {
        "id": "qdt5s7PNfVf3"
      },
      "execution_count": 4,
      "outputs": []
    },
    {
      "cell_type": "code",
      "source": [
        "data = pd.read_csv('/content/drive/MyDrive/NLP/Assignment_1/comments.tsv', sep='\\t')"
      ],
      "metadata": {
        "id": "8isoVSQegLPS"
      },
      "execution_count": 5,
      "outputs": []
    },
    {
      "cell_type": "code",
      "execution_count": 6,
      "metadata": {
        "id": "fMChBP-Teh0g"
      },
      "outputs": [],
      "source": [
        "#try:\n",
        "#    data = pd.read_csv('../../datasets/comments_small_dataset/comments.tsv', sep='\\t')\n",
        "#except FileNotFoundError:\n",
        "#    ! wget https://raw.githubusercontent.com/girafe-ai/ml-mipt/advanced_s21/datasets/comments_small_dataset/comments.tsv -nc\n",
        "#    data = pd.read_csv(\"comments.tsv\", sep='\\t')"
      ]
    },
    {
      "cell_type": "code",
      "execution_count": 7,
      "metadata": {
        "colab": {
          "base_uri": "https://localhost:8080/",
          "height": 206
        },
        "id": "EsUxJ4wXeh0h",
        "outputId": "50cfc2b8-fee8-4d87-9ef1-f14e228968f5"
      },
      "outputs": [
        {
          "output_type": "execute_result",
          "data": {
            "text/plain": [
              "     should_ban                                       comment_text\n",
              "50            0  \"Those who're in advantageous positions are th...\n",
              "250           1          Fartsalot56 says f**k you motherclucker!!\n",
              "450           1  Are you a fool? \\n\\nI am sorry, but you seem t...\n",
              "650           1    I AM NOT A VANDAL!!!!!!!!!!!!!!!!!!!!!!!!!!!!!!\n",
              "850           0  Citing sources\\n\\nCheck out the Wikipedia:Citi..."
            ],
            "text/html": [
              "\n",
              "  <div id=\"df-ce47929a-69af-4f39-8b2a-4c4594a4dfbf\">\n",
              "    <div class=\"colab-df-container\">\n",
              "      <div>\n",
              "<style scoped>\n",
              "    .dataframe tbody tr th:only-of-type {\n",
              "        vertical-align: middle;\n",
              "    }\n",
              "\n",
              "    .dataframe tbody tr th {\n",
              "        vertical-align: top;\n",
              "    }\n",
              "\n",
              "    .dataframe thead th {\n",
              "        text-align: right;\n",
              "    }\n",
              "</style>\n",
              "<table border=\"1\" class=\"dataframe\">\n",
              "  <thead>\n",
              "    <tr style=\"text-align: right;\">\n",
              "      <th></th>\n",
              "      <th>should_ban</th>\n",
              "      <th>comment_text</th>\n",
              "    </tr>\n",
              "  </thead>\n",
              "  <tbody>\n",
              "    <tr>\n",
              "      <th>50</th>\n",
              "      <td>0</td>\n",
              "      <td>\"Those who're in advantageous positions are th...</td>\n",
              "    </tr>\n",
              "    <tr>\n",
              "      <th>250</th>\n",
              "      <td>1</td>\n",
              "      <td>Fartsalot56 says f**k you motherclucker!!</td>\n",
              "    </tr>\n",
              "    <tr>\n",
              "      <th>450</th>\n",
              "      <td>1</td>\n",
              "      <td>Are you a fool? \\n\\nI am sorry, but you seem t...</td>\n",
              "    </tr>\n",
              "    <tr>\n",
              "      <th>650</th>\n",
              "      <td>1</td>\n",
              "      <td>I AM NOT A VANDAL!!!!!!!!!!!!!!!!!!!!!!!!!!!!!!</td>\n",
              "    </tr>\n",
              "    <tr>\n",
              "      <th>850</th>\n",
              "      <td>0</td>\n",
              "      <td>Citing sources\\n\\nCheck out the Wikipedia:Citi...</td>\n",
              "    </tr>\n",
              "  </tbody>\n",
              "</table>\n",
              "</div>\n",
              "      <button class=\"colab-df-convert\" onclick=\"convertToInteractive('df-ce47929a-69af-4f39-8b2a-4c4594a4dfbf')\"\n",
              "              title=\"Convert this dataframe to an interactive table.\"\n",
              "              style=\"display:none;\">\n",
              "        \n",
              "  <svg xmlns=\"http://www.w3.org/2000/svg\" height=\"24px\"viewBox=\"0 0 24 24\"\n",
              "       width=\"24px\">\n",
              "    <path d=\"M0 0h24v24H0V0z\" fill=\"none\"/>\n",
              "    <path d=\"M18.56 5.44l.94 2.06.94-2.06 2.06-.94-2.06-.94-.94-2.06-.94 2.06-2.06.94zm-11 1L8.5 8.5l.94-2.06 2.06-.94-2.06-.94L8.5 2.5l-.94 2.06-2.06.94zm10 10l.94 2.06.94-2.06 2.06-.94-2.06-.94-.94-2.06-.94 2.06-2.06.94z\"/><path d=\"M17.41 7.96l-1.37-1.37c-.4-.4-.92-.59-1.43-.59-.52 0-1.04.2-1.43.59L10.3 9.45l-7.72 7.72c-.78.78-.78 2.05 0 2.83L4 21.41c.39.39.9.59 1.41.59.51 0 1.02-.2 1.41-.59l7.78-7.78 2.81-2.81c.8-.78.8-2.07 0-2.86zM5.41 20L4 18.59l7.72-7.72 1.47 1.35L5.41 20z\"/>\n",
              "  </svg>\n",
              "      </button>\n",
              "      \n",
              "  <style>\n",
              "    .colab-df-container {\n",
              "      display:flex;\n",
              "      flex-wrap:wrap;\n",
              "      gap: 12px;\n",
              "    }\n",
              "\n",
              "    .colab-df-convert {\n",
              "      background-color: #E8F0FE;\n",
              "      border: none;\n",
              "      border-radius: 50%;\n",
              "      cursor: pointer;\n",
              "      display: none;\n",
              "      fill: #1967D2;\n",
              "      height: 32px;\n",
              "      padding: 0 0 0 0;\n",
              "      width: 32px;\n",
              "    }\n",
              "\n",
              "    .colab-df-convert:hover {\n",
              "      background-color: #E2EBFA;\n",
              "      box-shadow: 0px 1px 2px rgba(60, 64, 67, 0.3), 0px 1px 3px 1px rgba(60, 64, 67, 0.15);\n",
              "      fill: #174EA6;\n",
              "    }\n",
              "\n",
              "    [theme=dark] .colab-df-convert {\n",
              "      background-color: #3B4455;\n",
              "      fill: #D2E3FC;\n",
              "    }\n",
              "\n",
              "    [theme=dark] .colab-df-convert:hover {\n",
              "      background-color: #434B5C;\n",
              "      box-shadow: 0px 1px 3px 1px rgba(0, 0, 0, 0.15);\n",
              "      filter: drop-shadow(0px 1px 2px rgba(0, 0, 0, 0.3));\n",
              "      fill: #FFFFFF;\n",
              "    }\n",
              "  </style>\n",
              "\n",
              "      <script>\n",
              "        const buttonEl =\n",
              "          document.querySelector('#df-ce47929a-69af-4f39-8b2a-4c4594a4dfbf button.colab-df-convert');\n",
              "        buttonEl.style.display =\n",
              "          google.colab.kernel.accessAllowed ? 'block' : 'none';\n",
              "\n",
              "        async function convertToInteractive(key) {\n",
              "          const element = document.querySelector('#df-ce47929a-69af-4f39-8b2a-4c4594a4dfbf');\n",
              "          const dataTable =\n",
              "            await google.colab.kernel.invokeFunction('convertToInteractive',\n",
              "                                                     [key], {});\n",
              "          if (!dataTable) return;\n",
              "\n",
              "          const docLinkHtml = 'Like what you see? Visit the ' +\n",
              "            '<a target=\"_blank\" href=https://colab.research.google.com/notebooks/data_table.ipynb>data table notebook</a>'\n",
              "            + ' to learn more about interactive tables.';\n",
              "          element.innerHTML = '';\n",
              "          dataTable['output_type'] = 'display_data';\n",
              "          await google.colab.output.renderOutput(dataTable, element);\n",
              "          const docLink = document.createElement('div');\n",
              "          docLink.innerHTML = docLinkHtml;\n",
              "          element.appendChild(docLink);\n",
              "        }\n",
              "      </script>\n",
              "    </div>\n",
              "  </div>\n",
              "  "
            ]
          },
          "metadata": {},
          "execution_count": 7
        }
      ],
      "source": [
        "texts = data['comment_text'].values\n",
        "target = data['should_ban'].values\n",
        "data[50::200]"
      ]
    },
    {
      "cell_type": "code",
      "execution_count": 8,
      "metadata": {
        "id": "CJ30U4rxeh0h"
      },
      "outputs": [],
      "source": [
        "from sklearn.model_selection import train_test_split\n",
        "texts_train, texts_test, y_train, y_test = train_test_split(texts, target, test_size=0.5, random_state=42)"
      ]
    },
    {
      "cell_type": "markdown",
      "metadata": {
        "id": "Hu4UTkOLeh0h"
      },
      "source": [
        "__Note:__ it is generally a good idea to split data into train/test before anything is done to them.\n",
        "\n",
        "It guards you against possible data leakage in the preprocessing stage. For example, should you decide to select words present in obscene tweets as features, you should only count those words over the training set. Otherwise your algoritm can cheat evaluation."
      ]
    },
    {
      "cell_type": "markdown",
      "metadata": {
        "id": "ho0ofSsteh0i"
      },
      "source": [
        "### Preprocessing and tokenization\n",
        "\n",
        "Comments contain raw text with punctuation, upper/lowercase letters and even newline symbols.\n",
        "\n",
        "To simplify all further steps, we'll split text into space-separated tokens using one of nltk tokenizers.\n",
        "\n",
        "Generally, library `nltk` [link](https://www.nltk.org) is widely used in NLP. It is not necessary in here, but mentioned to intoduce it to you."
      ]
    },
    {
      "cell_type": "code",
      "execution_count": 9,
      "metadata": {
        "id": "nnC-rurEeh0i"
      },
      "outputs": [],
      "source": [
        "#!pip install nltk"
      ]
    },
    {
      "cell_type": "code",
      "execution_count": 10,
      "metadata": {
        "colab": {
          "base_uri": "https://localhost:8080/"
        },
        "id": "yy5r1o2zeh0i",
        "outputId": "75189f87-cb2b-4cc0-d9e4-0d5e40550b9e"
      },
      "outputs": [
        {
          "output_type": "stream",
          "name": "stdout",
          "text": [
            "before: How to be a grown-up at work: replace \"I don't want to do that\" with \"Ok, great!\".\n",
            "after: how to be a grown-up at work : replace \" i don't want to do that \" with \" ok , great ! \" .\n"
          ]
        }
      ],
      "source": [
        "from nltk.tokenize import TweetTokenizer\n",
        "tokenizer = TweetTokenizer()\n",
        "preprocess = lambda text: ' '.join(tokenizer.tokenize(text.lower()))\n",
        "\n",
        "text = 'How to be a grown-up at work: replace \"I don\\'t want to do that\" with \"Ok, great!\".'\n",
        "print(\"before:\", text,)\n",
        "print(\"after:\", preprocess(text),)"
      ]
    },
    {
      "cell_type": "code",
      "execution_count": 11,
      "metadata": {
        "id": "DKB2ZmlAeh0j"
      },
      "outputs": [],
      "source": [
        "# task: preprocess each comment in train and test\n",
        "\n",
        "texts_train_prep = []\n",
        "for train_text in texts_train:\n",
        "    texts_train_prep.append(preprocess(train_text))\n",
        "texts_test_prep = []\n",
        "for test_text in texts_test:\n",
        "    texts_test_prep.append(preprocess(test_text))\n",
        "texts_train = np.array(texts_train_prep) # <YOUR CODE>\n",
        "texts_test = np.array(texts_test_prep) # <YOUR CODE>"
      ]
    },
    {
      "cell_type": "code",
      "execution_count": 12,
      "metadata": {
        "id": "FrqYRvY6eh0k"
      },
      "outputs": [],
      "source": [
        "# Small check that everything is done properly\n",
        "assert texts_train[5] ==  'who cares anymore . they attack with impunity .'\n",
        "assert texts_test[89] == 'hey todds ! quick q ? why are you so gay'\n",
        "assert len(texts_test) == len(y_test)"
      ]
    },
    {
      "cell_type": "code",
      "execution_count": 13,
      "metadata": {
        "id": "myP7CbIheh0k"
      },
      "outputs": [],
      "source": [
        "results = pd.DataFrame()\n",
        "prep_model_list = []\n",
        "model_list = []\n",
        "train_auc_list = []\n",
        "test_auc_list = []"
      ]
    },
    {
      "cell_type": "markdown",
      "metadata": {
        "id": "P0hQchRueh0l"
      },
      "source": [
        "### Step 1: bag of words\n",
        "\n",
        "One traditional approach to such problem is to use bag of words features:\n",
        "1. build a vocabulary of frequent words (use train data only)\n",
        "2. for each training sample, count the number of times a word occurs in it (for each word in vocabulary).\n",
        "3. consider this count a feature for some classifier\n",
        "\n",
        "__Note:__ in practice, you can compute such features using sklearn. __Please don't do that in the current assignment, though.__\n",
        "* `from sklearn.feature_extraction.text import CountVectorizer, TfidfVectorizer`"
      ]
    },
    {
      "cell_type": "code",
      "execution_count": 14,
      "metadata": {
        "colab": {
          "base_uri": "https://localhost:8080/"
        },
        "id": "ty7x5spbeh0l",
        "outputId": "88f90c96-334b-49eb-f882-0b33ca0a09e5"
      },
      "outputs": [
        {
          "output_type": "stream",
          "name": "stdout",
          "text": [
            "example features: ['!', '12/13', '3', ']', 'adolf', 'altered', 'arcane', 'automatically', 'benefit', 'bottom', 'cambefort', 'chemistry', 'comb-like', 'consume', 'credited', 'decided', 'diatribe', 'doing', 'education', 'essay', 'factual', 'fire', 'from', 'go', 'hands', 'hinders', 'identical', 'infobox', 'israelis', 'kind', \"let's\", 'lost', 'mckenna', 'moderation', 'naturally', 'noticeable', 'opposing', 'pdf', 'plant', 'pretoria', 'punctuation', 'rebels', 'repetative', 'riadh', 'schulz', 'shes', 'slit', 'spoof', 'stupid', 't', 'theoretical', 'topic', 'uglyness', 'userspace', 'wanted', 'wikieditor', 'year', 'ீ']\n"
          ]
        }
      ],
      "source": [
        "from features import BoW\n",
        "\n",
        "# task: find up to k most frequent tokens in texts_train,\n",
        "# sort them by number of occurences (highest first)\n",
        "k = min(10000, len(set(' '.join(texts_train).split())))\n",
        "\n",
        "#<YOUR CODE>\n",
        "bow = BoW(k)\n",
        "bow.fit(texts_train)\n",
        "\n",
        "print('example features:', sorted(bow.get_vocabulary())[::100])"
      ]
    },
    {
      "cell_type": "code",
      "execution_count": 15,
      "metadata": {
        "id": "K5szG_hueh0m"
      },
      "outputs": [],
      "source": [
        "X_train_bow = bow.transform(texts_train)\n",
        "X_test_bow = bow.transform(texts_test)"
      ]
    },
    {
      "cell_type": "code",
      "execution_count": 16,
      "metadata": {
        "colab": {
          "base_uri": "https://localhost:8080/"
        },
        "id": "-NZqfBhZeh0m",
        "outputId": "636a0396-5e31-4438-9d9a-991507024be9"
      },
      "outputs": [
        {
          "output_type": "execute_result",
          "data": {
            "text/plain": [
              "array([[ 0.,  0.,  0., ...,  0.,  0.,  0.],\n",
              "       [ 9.,  3.,  1., ...,  0.,  0.,  0.],\n",
              "       [ 1.,  0.,  1., ...,  0.,  0.,  0.],\n",
              "       ...,\n",
              "       [ 4.,  5.,  1., ...,  1.,  1.,  1.],\n",
              "       [35., 35., 35., ...,  0.,  0.,  0.],\n",
              "       [ 2.,  1.,  0., ...,  0.,  0.,  0.]], dtype=float32)"
            ]
          },
          "metadata": {},
          "execution_count": 16
        }
      ],
      "source": [
        "X_train_bow"
      ]
    },
    {
      "cell_type": "code",
      "execution_count": 17,
      "metadata": {
        "id": "xPkQ5eaAeh0m"
      },
      "outputs": [],
      "source": [
        "# Small check that everything is done properly\n",
        "bow_vocabulary = bow.get_vocabulary()\n",
        "k_max = len(set(' '.join(texts_train).split()))\n",
        "assert X_train_bow.shape == (len(texts_train), min(k, k_max))\n",
        "assert X_test_bow.shape == (len(texts_test), min(k, k_max))\n",
        "assert np.all(X_train_bow[5:10].sum(-1) == np.array([len(s.split()) for s in  texts_train[5:10]]))\n",
        "assert len(bow_vocabulary) <= min(k, k_max)\n",
        "assert X_train_bow[6, bow_vocabulary.index('.')] == texts_train[6].split().count('.')"
      ]
    },
    {
      "cell_type": "markdown",
      "metadata": {
        "id": "uLvPGOSheh0n"
      },
      "source": [
        "Now let's do the trick with `sklearn` logistic regression implementation:"
      ]
    },
    {
      "cell_type": "code",
      "execution_count": 18,
      "metadata": {
        "id": "omuXaqnoeh0n"
      },
      "outputs": [],
      "source": [
        "from sklearn.linear_model import LogisticRegression\n",
        "bow_model = LogisticRegression().fit(X_train_bow, y_train)"
      ]
    },
    {
      "cell_type": "code",
      "execution_count": 19,
      "metadata": {
        "id": "TqKGmXyFeh0n"
      },
      "outputs": [],
      "source": [
        "prep_model_list.append('BoW')\n",
        "model_list.append('LR')"
      ]
    },
    {
      "cell_type": "code",
      "execution_count": 20,
      "metadata": {
        "colab": {
          "base_uri": "https://localhost:8080/",
          "height": 265
        },
        "id": "SOk5g5Mjeh0n",
        "outputId": "c25cad51-c43e-4f7c-d04d-d65302f5f024"
      },
      "outputs": [
        {
          "output_type": "display_data",
          "data": {
            "text/plain": [
              "<Figure size 432x288 with 1 Axes>"
            ],
            "image/png": "[encoded data removed]"
          },
          "metadata": {
            "needs_background": "light"
          }
        }
      ],
      "source": [
        "from sklearn.metrics import roc_auc_score, roc_curve\n",
        "\n",
        "for name, X, y, model, res_name in [\n",
        "    ('train', X_train_bow, y_train, bow_model, train_auc_list),\n",
        "    ('test ', X_test_bow, y_test, bow_model, test_auc_list)\n",
        "]:\n",
        "    proba = model.predict_proba(X)[:, 1]\n",
        "    auc = roc_auc_score(y, proba)\n",
        "    res_name.append(auc)\n",
        "    plt.plot(*roc_curve(y, proba)[:2], label='%s AUC=%.4f' % (name, auc))\n",
        "\n",
        "plt.plot([0, 1], [0, 1], '--', color='black',)\n",
        "plt.legend(fontsize='large')\n",
        "plt.grid()"
      ]
    },
    {
      "cell_type": "markdown",
      "metadata": {
        "id": "NGjyZmczeh0o"
      },
      "source": [
        "Seems alright. Now let's create the simple logistic regression using PyTorch. Just like in the classwork."
      ]
    },
    {
      "cell_type": "code",
      "execution_count": 21,
      "metadata": {
        "id": "g4bgYoiBeh0o"
      },
      "outputs": [],
      "source": [
        "import torch\n",
        "from torch import nn\n",
        "from torch.nn import functional as F\n",
        "from torch.optim.lr_scheduler import StepLR, ReduceLROnPlateau\n",
        "\n",
        "from sklearn.metrics import accuracy_score"
      ]
    },
    {
      "cell_type": "code",
      "execution_count": 22,
      "metadata": {
        "id": "ZaEbPdXzeh0o"
      },
      "outputs": [],
      "source": [
        "from utils import plot_train_process"
      ]
    },
    {
      "cell_type": "code",
      "execution_count": 23,
      "metadata": {
        "id": "wWvt1nZQeh0o"
      },
      "outputs": [],
      "source": [
        "model = nn.Sequential()\n",
        "\n",
        "model.add_module('l1', nn.Linear(k, 2)) ### YOUR CODE HERE\n",
        "model.add_module('l2', nn.Sigmoid()) ### YOUR CODE HERE"
      ]
    },
    {
      "cell_type": "markdown",
      "metadata": {
        "id": "jF4JhX5Geh0o"
      },
      "source": [
        "Remember what we discussed about loss functions! `nn.CrossEntropyLoss` combines both log-softmax and `NLLLoss`.\n",
        "\n",
        "__Be careful with it! Criterion `nn.CrossEntropyLoss` with still work with log-softmax output, but it won't allow you to converge to the optimum.__ Next comes small demonstration:"
      ]
    },
    {
      "cell_type": "code",
      "execution_count": 24,
      "metadata": {
        "id": "d4bdNX85eh0p"
      },
      "outputs": [],
      "source": [
        "# loss_function = nn.NLLLoss()\n",
        "loss_function = nn.CrossEntropyLoss()"
      ]
    },
    {
      "cell_type": "code",
      "execution_count": 25,
      "metadata": {
        "id": "89bqH0c-eh0p"
      },
      "outputs": [],
      "source": [
        "opt = torch.optim.Adam(model.parameters(), lr=0.01) ### YOUR CODE HERE\n",
        "lr_scheduler = ReduceLROnPlateau(opt, patience=35)"
      ]
    },
    {
      "cell_type": "code",
      "execution_count": 26,
      "metadata": {
        "id": "DAx44xKKeh0p"
      },
      "outputs": [],
      "source": [
        "X_train_bow_torch = torch.tensor(X_train_bow) ### YOUR CODE HERE\n",
        "X_test_bow_torch = torch.tensor(X_test_bow) ### YOUR CODE HERE\n",
        "\n",
        "y_train_torch = torch.tensor(y_train) ### YOUR CODE HERE\n",
        "y_test_torch = torch.tensor(y_test) ### YOUR CODE HERE"
      ]
    },
    {
      "cell_type": "markdown",
      "metadata": {
        "id": "4ISj5T5Qeh0p"
      },
      "source": [
        "Let's test that everything is fine"
      ]
    },
    {
      "cell_type": "code",
      "execution_count": 27,
      "metadata": {
        "id": "GwmCjkNieh0q"
      },
      "outputs": [],
      "source": [
        "# example loss\n",
        "loss = loss_function(model(X_train_bow_torch[:3]), y_train_torch[:3])"
      ]
    },
    {
      "cell_type": "code",
      "execution_count": 28,
      "metadata": {
        "id": "1ep2JU8teh0q"
      },
      "outputs": [],
      "source": [
        "assert type(loss.item()) == float"
      ]
    },
    {
      "cell_type": "markdown",
      "metadata": {
        "id": "aOW3KQ3yeh0q"
      },
      "source": [
        "Here comes small function to train the model. In future we will take in into separate file, but for this homework it's ok to implement it here. "
      ]
    },
    {
      "cell_type": "code",
      "execution_count": 29,
      "metadata": {
        "id": "ZvhD4tdheh0q"
      },
      "outputs": [],
      "source": [
        "def train_model(\n",
        "    model,\n",
        "    opt,\n",
        "    lr_scheduler,\n",
        "    X_train_torch,\n",
        "    y_train_torch,\n",
        "    X_val_torch,\n",
        "    y_val_torch,\n",
        "    n_iterations=500,\n",
        "    batch_size=32,\n",
        "    warm_start=False,\n",
        "    show_plots=True,\n",
        "    eval_every=10\n",
        "):\n",
        "    if not warm_start:\n",
        "        for name, module in model.named_children():\n",
        "            print('resetting ', name)\n",
        "            try:\n",
        "                module.reset_parameters()\n",
        "            except AttributeError as e:\n",
        "                print('Cannot reset {} module parameters: {}'.format(name, e))\n",
        "\n",
        "    train_loss_history = []\n",
        "    train_acc_history = []\n",
        "    val_loss_history = []\n",
        "    val_acc_history = []\n",
        "\n",
        "    local_train_loss_history = []\n",
        "    local_train_acc_history = []\n",
        "    for i in range(n_iterations):\n",
        "\n",
        "        # sample 256 random observations\n",
        "        ix = np.random.randint(0, len(X_train_torch), batch_size)\n",
        "        x_batch = X_train_torch[ix]\n",
        "        y_batch = y_train_torch[ix]\n",
        "\n",
        "        # predict log-probabilities or logits\n",
        "        y_predicted = model(x_batch) ### YOUR CODE\n",
        "\n",
        "        # compute loss, just like before\n",
        "        ### YOUR CODE\n",
        "        loss = loss_function(y_predicted, y_batch)\n",
        "\n",
        "        # compute gradients\n",
        "        ### YOUR CODE\n",
        "        loss.backward()\n",
        "\n",
        "        # Adam step\n",
        "        ### YOUR CODE\n",
        "        opt.step()\n",
        "\n",
        "        # clear gradients\n",
        "        ### YOUR CODE\n",
        "        opt.zero_grad()\n",
        "\n",
        "\n",
        "        local_train_loss_history.append(loss.data.numpy())\n",
        "        local_train_acc_history.append(\n",
        "            accuracy_score(\n",
        "                y_batch.to('cpu').detach().numpy(),\n",
        "                y_predicted.to('cpu').detach().numpy().argmax(axis=1)\n",
        "            )\n",
        "        )\n",
        "\n",
        "        if i % eval_every == 0:\n",
        "            train_loss_history.append(np.mean(local_train_loss_history))\n",
        "            train_acc_history.append(np.mean(local_train_acc_history))\n",
        "            local_train_loss_history, local_train_acc_history = [], []\n",
        "\n",
        "            predictions_val = model(X_val_torch)\n",
        "            val_loss_history.append(loss_function(predictions_val, y_val_torch).to('cpu').detach().item())\n",
        "\n",
        "            acc_score_val = accuracy_score(y_val_torch.cpu().numpy(), predictions_val.to('cpu').detach().numpy().argmax(axis=1))\n",
        "            val_acc_history.append(acc_score_val)\n",
        "            lr_scheduler.step(train_loss_history[-1])\n",
        "\n",
        "            if show_plots:\n",
        "                display.clear_output(wait=True)\n",
        "                plot_train_process(train_loss_history, val_loss_history, train_acc_history, val_acc_history)\n",
        "    return model"
      ]
    },
    {
      "cell_type": "markdown",
      "metadata": {
        "id": "KF3sTVm3eh0r"
      },
      "source": [
        "Let's run it on the data. Note, that here we use the `test` part of the data for validation. It's not so good idea in general, but in this task our main goal is practice."
      ]
    },
    {
      "cell_type": "code",
      "execution_count": 30,
      "metadata": {
        "colab": {
          "base_uri": "https://localhost:8080/",
          "height": 408
        },
        "id": "iAUsrQSDeh0r",
        "outputId": "074e7f2f-3fcb-47e7-b517-a1d85b6f408b"
      },
      "outputs": [
        {
          "output_type": "display_data",
          "data": {
            "text/plain": [
              "<Figure size 1080x360 with 2 Axes>"
            ],
            "image/png": "[encoded data removed]"
          },
          "metadata": {
            "needs_background": "light"
          }
        },
        {
          "output_type": "execute_result",
          "data": {
            "text/plain": [
              "Sequential(\n",
              "  (l1): Linear(in_features=5722, out_features=2, bias=True)\n",
              "  (l2): Sigmoid()\n",
              ")"
            ]
          },
          "metadata": {},
          "execution_count": 30
        }
      ],
      "source": [
        "train_model(model, opt, lr_scheduler, X_train_bow_torch, y_train_torch, X_test_bow_torch, y_test_torch)"
      ]
    },
    {
      "cell_type": "code",
      "execution_count": 31,
      "metadata": {
        "id": "GJTFKmXmeh0r"
      },
      "outputs": [],
      "source": [
        "prep_model_list.append('BoW')\n",
        "model_list.append('SimpleNN')"
      ]
    },
    {
      "cell_type": "code",
      "execution_count": 32,
      "metadata": {
        "colab": {
          "base_uri": "https://localhost:8080/",
          "height": 265
        },
        "id": "GSUCEMeHeh0r",
        "outputId": "4662d973-7ba7-4eb2-b407-b2b3b425fe92"
      },
      "outputs": [
        {
          "output_type": "display_data",
          "data": {
            "text/plain": [
              "<Figure size 432x288 with 1 Axes>"
            ],
            "image/png": "[encoded data removed]"
          },
          "metadata": {
            "needs_background": "light"
          }
        }
      ],
      "source": [
        "from sklearn.metrics import roc_auc_score, roc_curve\n",
        "\n",
        "for name, X, y, model, res_name in [\n",
        "    ('train', X_train_bow_torch, y_train, model, train_auc_list),\n",
        "    ('test ', X_test_bow_torch, y_test, model, test_auc_list)\n",
        "]:\n",
        "    proba = model(X).detach().cpu().numpy()[:, 1]\n",
        "    auc = roc_auc_score(y, proba)\n",
        "    res_name.append(auc)\n",
        "    plt.plot(*roc_curve(y, proba)[:2], label='%s AUC=%.4f' % (name, auc))\n",
        "\n",
        "plt.plot([0, 1], [0, 1], '--', color='black',)\n",
        "plt.legend(fontsize='large')\n",
        "plt.grid()"
      ]
    },
    {
      "cell_type": "markdown",
      "metadata": {
        "id": "My2cKfWBeh0s"
      },
      "source": [
        "Try to vary the number of tokens `k` and check how the model performance changes. Show it on a plot."
      ]
    },
    {
      "cell_type": "code",
      "execution_count": 33,
      "metadata": {
        "id": "_zO2RGZdeh0s"
      },
      "outputs": [],
      "source": [
        "# Your beautiful code here\n",
        "def roc_auc(model, X_train, y_train, X_test, y_test, use_torch = False):\n",
        "    auc = []\n",
        "    for name, X, y, model in [\n",
        "        ('train', X_train, y_train, model),\n",
        "        ('test ', X_test, y_test, model)\n",
        "    ]:\n",
        "        if use_torch: \n",
        "            proba = model(X).detach().cpu().numpy()[:, 1]\n",
        "        else: \n",
        "            proba = model.predict_proba(X)[:, 1]\n",
        "        auc.append(roc_auc_score(y, proba))\n",
        "    return auc"
      ]
    },
    {
      "cell_type": "code",
      "execution_count": 34,
      "metadata": {
        "colab": {
          "base_uri": "https://localhost:8080/"
        },
        "id": "ndy57wybeh0s",
        "outputId": "78910901-d5fd-400b-e458-4b8c0a7634aa"
      },
      "outputs": [
        {
          "output_type": "execute_result",
          "data": {
            "text/plain": [
              "5722"
            ]
          },
          "metadata": {},
          "execution_count": 34
        }
      ],
      "source": [
        "len(set(' '.join(texts_train).split()))"
      ]
    },
    {
      "cell_type": "code",
      "execution_count": 35,
      "metadata": {
        "colab": {
          "base_uri": "https://localhost:8080/"
        },
        "id": "ypcT-fM0eh0s",
        "outputId": "bbdfcecc-7ef1-4bf1-bb6f-d2a25be55346"
      },
      "outputs": [
        {
          "output_type": "stream",
          "name": "stdout",
          "text": [
            "k = 100\n",
            "resetting  l1\n",
            "resetting  l2\n",
            "Cannot reset l2 module parameters: 'Sigmoid' object has no attribute 'reset_parameters'\n",
            "k = 150\n",
            "resetting  l1\n",
            "resetting  l2\n",
            "Cannot reset l2 module parameters: 'Sigmoid' object has no attribute 'reset_parameters'\n",
            "k = 200\n",
            "resetting  l1\n",
            "resetting  l2\n",
            "Cannot reset l2 module parameters: 'Sigmoid' object has no attribute 'reset_parameters'\n",
            "k = 250\n",
            "resetting  l1\n",
            "resetting  l2\n",
            "Cannot reset l2 module parameters: 'Sigmoid' object has no attribute 'reset_parameters'\n",
            "k = 300\n",
            "resetting  l1\n",
            "resetting  l2\n",
            "Cannot reset l2 module parameters: 'Sigmoid' object has no attribute 'reset_parameters'\n",
            "k = 350\n",
            "resetting  l1\n",
            "resetting  l2\n",
            "Cannot reset l2 module parameters: 'Sigmoid' object has no attribute 'reset_parameters'\n",
            "k = 400\n",
            "resetting  l1\n",
            "resetting  l2\n",
            "Cannot reset l2 module parameters: 'Sigmoid' object has no attribute 'reset_parameters'\n",
            "k = 450\n",
            "resetting  l1\n",
            "resetting  l2\n",
            "Cannot reset l2 module parameters: 'Sigmoid' object has no attribute 'reset_parameters'\n",
            "k = 500\n",
            "resetting  l1\n",
            "resetting  l2\n",
            "Cannot reset l2 module parameters: 'Sigmoid' object has no attribute 'reset_parameters'\n",
            "k = 550\n",
            "resetting  l1\n",
            "resetting  l2\n",
            "Cannot reset l2 module parameters: 'Sigmoid' object has no attribute 'reset_parameters'\n",
            "k = 600\n",
            "resetting  l1\n",
            "resetting  l2\n",
            "Cannot reset l2 module parameters: 'Sigmoid' object has no attribute 'reset_parameters'\n",
            "k = 650\n",
            "resetting  l1\n",
            "resetting  l2\n",
            "Cannot reset l2 module parameters: 'Sigmoid' object has no attribute 'reset_parameters'\n",
            "k = 700\n",
            "resetting  l1\n",
            "resetting  l2\n",
            "Cannot reset l2 module parameters: 'Sigmoid' object has no attribute 'reset_parameters'\n",
            "k = 750\n",
            "resetting  l1\n",
            "resetting  l2\n",
            "Cannot reset l2 module parameters: 'Sigmoid' object has no attribute 'reset_parameters'\n",
            "k = 800\n",
            "resetting  l1\n",
            "resetting  l2\n",
            "Cannot reset l2 module parameters: 'Sigmoid' object has no attribute 'reset_parameters'\n",
            "k = 850\n",
            "resetting  l1\n",
            "resetting  l2\n",
            "Cannot reset l2 module parameters: 'Sigmoid' object has no attribute 'reset_parameters'\n",
            "k = 900\n",
            "resetting  l1\n",
            "resetting  l2\n",
            "Cannot reset l2 module parameters: 'Sigmoid' object has no attribute 'reset_parameters'\n",
            "k = 950\n",
            "resetting  l1\n",
            "resetting  l2\n",
            "Cannot reset l2 module parameters: 'Sigmoid' object has no attribute 'reset_parameters'\n",
            "k = 1000\n",
            "resetting  l1\n",
            "resetting  l2\n",
            "Cannot reset l2 module parameters: 'Sigmoid' object has no attribute 'reset_parameters'\n",
            "k = 1050\n",
            "resetting  l1\n",
            "resetting  l2\n",
            "Cannot reset l2 module parameters: 'Sigmoid' object has no attribute 'reset_parameters'\n",
            "k = 1100\n",
            "resetting  l1\n",
            "resetting  l2\n",
            "Cannot reset l2 module parameters: 'Sigmoid' object has no attribute 'reset_parameters'\n",
            "k = 1150\n",
            "resetting  l1\n",
            "resetting  l2\n",
            "Cannot reset l2 module parameters: 'Sigmoid' object has no attribute 'reset_parameters'\n",
            "k = 1200\n",
            "resetting  l1\n",
            "resetting  l2\n",
            "Cannot reset l2 module parameters: 'Sigmoid' object has no attribute 'reset_parameters'\n",
            "k = 1250\n",
            "resetting  l1\n",
            "resetting  l2\n",
            "Cannot reset l2 module parameters: 'Sigmoid' object has no attribute 'reset_parameters'\n",
            "k = 1300\n",
            "resetting  l1\n",
            "resetting  l2\n",
            "Cannot reset l2 module parameters: 'Sigmoid' object has no attribute 'reset_parameters'\n",
            "k = 1350\n",
            "resetting  l1\n",
            "resetting  l2\n",
            "Cannot reset l2 module parameters: 'Sigmoid' object has no attribute 'reset_parameters'\n",
            "k = 1400\n",
            "resetting  l1\n",
            "resetting  l2\n",
            "Cannot reset l2 module parameters: 'Sigmoid' object has no attribute 'reset_parameters'\n",
            "k = 1450\n",
            "resetting  l1\n",
            "resetting  l2\n",
            "Cannot reset l2 module parameters: 'Sigmoid' object has no attribute 'reset_parameters'\n",
            "k = 1500\n",
            "resetting  l1\n",
            "resetting  l2\n",
            "Cannot reset l2 module parameters: 'Sigmoid' object has no attribute 'reset_parameters'\n",
            "k = 1550\n",
            "resetting  l1\n",
            "resetting  l2\n",
            "Cannot reset l2 module parameters: 'Sigmoid' object has no attribute 'reset_parameters'\n",
            "k = 1600\n",
            "resetting  l1\n",
            "resetting  l2\n",
            "Cannot reset l2 module parameters: 'Sigmoid' object has no attribute 'reset_parameters'\n",
            "k = 1650\n",
            "resetting  l1\n",
            "resetting  l2\n",
            "Cannot reset l2 module parameters: 'Sigmoid' object has no attribute 'reset_parameters'\n",
            "k = 1700\n",
            "resetting  l1\n",
            "resetting  l2\n",
            "Cannot reset l2 module parameters: 'Sigmoid' object has no attribute 'reset_parameters'\n",
            "k = 1750\n",
            "resetting  l1\n",
            "resetting  l2\n",
            "Cannot reset l2 module parameters: 'Sigmoid' object has no attribute 'reset_parameters'\n",
            "k = 1800\n",
            "resetting  l1\n",
            "resetting  l2\n",
            "Cannot reset l2 module parameters: 'Sigmoid' object has no attribute 'reset_parameters'\n",
            "k = 1850\n",
            "resetting  l1\n",
            "resetting  l2\n",
            "Cannot reset l2 module parameters: 'Sigmoid' object has no attribute 'reset_parameters'\n",
            "k = 1900\n",
            "resetting  l1\n",
            "resetting  l2\n",
            "Cannot reset l2 module parameters: 'Sigmoid' object has no attribute 'reset_parameters'\n",
            "k = 1950\n",
            "resetting  l1\n",
            "resetting  l2\n",
            "Cannot reset l2 module parameters: 'Sigmoid' object has no attribute 'reset_parameters'\n",
            "k = 2000\n",
            "resetting  l1\n",
            "resetting  l2\n",
            "Cannot reset l2 module parameters: 'Sigmoid' object has no attribute 'reset_parameters'\n",
            "k = 2050\n",
            "resetting  l1\n",
            "resetting  l2\n",
            "Cannot reset l2 module parameters: 'Sigmoid' object has no attribute 'reset_parameters'\n",
            "k = 2100\n",
            "resetting  l1\n",
            "resetting  l2\n",
            "Cannot reset l2 module parameters: 'Sigmoid' object has no attribute 'reset_parameters'\n",
            "k = 2150\n",
            "resetting  l1\n",
            "resetting  l2\n",
            "Cannot reset l2 module parameters: 'Sigmoid' object has no attribute 'reset_parameters'\n",
            "k = 2200\n",
            "resetting  l1\n",
            "resetting  l2\n",
            "Cannot reset l2 module parameters: 'Sigmoid' object has no attribute 'reset_parameters'\n",
            "k = 2250\n",
            "resetting  l1\n",
            "resetting  l2\n",
            "Cannot reset l2 module parameters: 'Sigmoid' object has no attribute 'reset_parameters'\n",
            "k = 2300\n",
            "resetting  l1\n",
            "resetting  l2\n",
            "Cannot reset l2 module parameters: 'Sigmoid' object has no attribute 'reset_parameters'\n",
            "k = 2350\n",
            "resetting  l1\n",
            "resetting  l2\n",
            "Cannot reset l2 module parameters: 'Sigmoid' object has no attribute 'reset_parameters'\n",
            "k = 2400\n",
            "resetting  l1\n",
            "resetting  l2\n",
            "Cannot reset l2 module parameters: 'Sigmoid' object has no attribute 'reset_parameters'\n",
            "k = 2450\n",
            "resetting  l1\n",
            "resetting  l2\n",
            "Cannot reset l2 module parameters: 'Sigmoid' object has no attribute 'reset_parameters'\n",
            "k = 2500\n",
            "resetting  l1\n",
            "resetting  l2\n",
            "Cannot reset l2 module parameters: 'Sigmoid' object has no attribute 'reset_parameters'\n",
            "k = 2550\n",
            "resetting  l1\n",
            "resetting  l2\n",
            "Cannot reset l2 module parameters: 'Sigmoid' object has no attribute 'reset_parameters'\n",
            "k = 2600\n",
            "resetting  l1\n",
            "resetting  l2\n",
            "Cannot reset l2 module parameters: 'Sigmoid' object has no attribute 'reset_parameters'\n",
            "k = 2650\n",
            "resetting  l1\n",
            "resetting  l2\n",
            "Cannot reset l2 module parameters: 'Sigmoid' object has no attribute 'reset_parameters'\n",
            "k = 2700\n",
            "resetting  l1\n",
            "resetting  l2\n",
            "Cannot reset l2 module parameters: 'Sigmoid' object has no attribute 'reset_parameters'\n",
            "k = 2750\n",
            "resetting  l1\n",
            "resetting  l2\n",
            "Cannot reset l2 module parameters: 'Sigmoid' object has no attribute 'reset_parameters'\n",
            "k = 2800\n",
            "resetting  l1\n",
            "resetting  l2\n",
            "Cannot reset l2 module parameters: 'Sigmoid' object has no attribute 'reset_parameters'\n",
            "k = 2850\n",
            "resetting  l1\n",
            "resetting  l2\n",
            "Cannot reset l2 module parameters: 'Sigmoid' object has no attribute 'reset_parameters'\n",
            "k = 2900\n",
            "resetting  l1\n",
            "resetting  l2\n",
            "Cannot reset l2 module parameters: 'Sigmoid' object has no attribute 'reset_parameters'\n",
            "k = 2950\n",
            "resetting  l1\n",
            "resetting  l2\n",
            "Cannot reset l2 module parameters: 'Sigmoid' object has no attribute 'reset_parameters'\n",
            "k = 3000\n",
            "resetting  l1\n",
            "resetting  l2\n",
            "Cannot reset l2 module parameters: 'Sigmoid' object has no attribute 'reset_parameters'\n",
            "k = 3050\n",
            "resetting  l1\n",
            "resetting  l2\n",
            "Cannot reset l2 module parameters: 'Sigmoid' object has no attribute 'reset_parameters'\n",
            "k = 3100\n",
            "resetting  l1\n",
            "resetting  l2\n",
            "Cannot reset l2 module parameters: 'Sigmoid' object has no attribute 'reset_parameters'\n",
            "k = 3150\n",
            "resetting  l1\n",
            "resetting  l2\n",
            "Cannot reset l2 module parameters: 'Sigmoid' object has no attribute 'reset_parameters'\n",
            "k = 3200\n",
            "resetting  l1\n",
            "resetting  l2\n",
            "Cannot reset l2 module parameters: 'Sigmoid' object has no attribute 'reset_parameters'\n",
            "k = 3250\n",
            "resetting  l1\n",
            "resetting  l2\n",
            "Cannot reset l2 module parameters: 'Sigmoid' object has no attribute 'reset_parameters'\n",
            "k = 3300\n",
            "resetting  l1\n",
            "resetting  l2\n",
            "Cannot reset l2 module parameters: 'Sigmoid' object has no attribute 'reset_parameters'\n",
            "k = 3350\n",
            "resetting  l1\n",
            "resetting  l2\n",
            "Cannot reset l2 module parameters: 'Sigmoid' object has no attribute 'reset_parameters'\n",
            "k = 3400\n",
            "resetting  l1\n",
            "resetting  l2\n",
            "Cannot reset l2 module parameters: 'Sigmoid' object has no attribute 'reset_parameters'\n",
            "k = 3450\n",
            "resetting  l1\n",
            "resetting  l2\n",
            "Cannot reset l2 module parameters: 'Sigmoid' object has no attribute 'reset_parameters'\n",
            "k = 3500\n",
            "resetting  l1\n",
            "resetting  l2\n",
            "Cannot reset l2 module parameters: 'Sigmoid' object has no attribute 'reset_parameters'\n",
            "k = 3550\n",
            "resetting  l1\n",
            "resetting  l2\n",
            "Cannot reset l2 module parameters: 'Sigmoid' object has no attribute 'reset_parameters'\n",
            "k = 3600\n",
            "resetting  l1\n",
            "resetting  l2\n",
            "Cannot reset l2 module parameters: 'Sigmoid' object has no attribute 'reset_parameters'\n",
            "k = 3650\n",
            "resetting  l1\n",
            "resetting  l2\n",
            "Cannot reset l2 module parameters: 'Sigmoid' object has no attribute 'reset_parameters'\n",
            "k = 3700\n",
            "resetting  l1\n",
            "resetting  l2\n",
            "Cannot reset l2 module parameters: 'Sigmoid' object has no attribute 'reset_parameters'\n",
            "k = 3750\n",
            "resetting  l1\n",
            "resetting  l2\n",
            "Cannot reset l2 module parameters: 'Sigmoid' object has no attribute 'reset_parameters'\n",
            "k = 3800\n",
            "resetting  l1\n",
            "resetting  l2\n",
            "Cannot reset l2 module parameters: 'Sigmoid' object has no attribute 'reset_parameters'\n",
            "k = 3850\n",
            "resetting  l1\n",
            "resetting  l2\n",
            "Cannot reset l2 module parameters: 'Sigmoid' object has no attribute 'reset_parameters'\n",
            "k = 3900\n",
            "resetting  l1\n",
            "resetting  l2\n",
            "Cannot reset l2 module parameters: 'Sigmoid' object has no attribute 'reset_parameters'\n",
            "k = 3950\n",
            "resetting  l1\n",
            "resetting  l2\n",
            "Cannot reset l2 module parameters: 'Sigmoid' object has no attribute 'reset_parameters'\n",
            "k = 4000\n",
            "resetting  l1\n",
            "resetting  l2\n",
            "Cannot reset l2 module parameters: 'Sigmoid' object has no attribute 'reset_parameters'\n",
            "k = 4050\n",
            "resetting  l1\n",
            "resetting  l2\n",
            "Cannot reset l2 module parameters: 'Sigmoid' object has no attribute 'reset_parameters'\n",
            "k = 4100\n",
            "resetting  l1\n",
            "resetting  l2\n",
            "Cannot reset l2 module parameters: 'Sigmoid' object has no attribute 'reset_parameters'\n",
            "k = 4150\n",
            "resetting  l1\n",
            "resetting  l2\n",
            "Cannot reset l2 module parameters: 'Sigmoid' object has no attribute 'reset_parameters'\n",
            "k = 4200\n",
            "resetting  l1\n",
            "resetting  l2\n",
            "Cannot reset l2 module parameters: 'Sigmoid' object has no attribute 'reset_parameters'\n",
            "k = 4250\n",
            "resetting  l1\n",
            "resetting  l2\n",
            "Cannot reset l2 module parameters: 'Sigmoid' object has no attribute 'reset_parameters'\n",
            "k = 4300\n",
            "resetting  l1\n",
            "resetting  l2\n",
            "Cannot reset l2 module parameters: 'Sigmoid' object has no attribute 'reset_parameters'\n",
            "k = 4350\n",
            "resetting  l1\n",
            "resetting  l2\n",
            "Cannot reset l2 module parameters: 'Sigmoid' object has no attribute 'reset_parameters'\n",
            "k = 4400\n",
            "resetting  l1\n",
            "resetting  l2\n",
            "Cannot reset l2 module parameters: 'Sigmoid' object has no attribute 'reset_parameters'\n",
            "k = 4450\n",
            "resetting  l1\n",
            "resetting  l2\n",
            "Cannot reset l2 module parameters: 'Sigmoid' object has no attribute 'reset_parameters'\n",
            "k = 4500\n",
            "resetting  l1\n",
            "resetting  l2\n",
            "Cannot reset l2 module parameters: 'Sigmoid' object has no attribute 'reset_parameters'\n",
            "k = 4550\n",
            "resetting  l1\n",
            "resetting  l2\n",
            "Cannot reset l2 module parameters: 'Sigmoid' object has no attribute 'reset_parameters'\n",
            "k = 4600\n",
            "resetting  l1\n",
            "resetting  l2\n",
            "Cannot reset l2 module parameters: 'Sigmoid' object has no attribute 'reset_parameters'\n",
            "k = 4650\n",
            "resetting  l1\n",
            "resetting  l2\n",
            "Cannot reset l2 module parameters: 'Sigmoid' object has no attribute 'reset_parameters'\n",
            "k = 4700\n",
            "resetting  l1\n",
            "resetting  l2\n",
            "Cannot reset l2 module parameters: 'Sigmoid' object has no attribute 'reset_parameters'\n",
            "k = 4750\n",
            "resetting  l1\n",
            "resetting  l2\n",
            "Cannot reset l2 module parameters: 'Sigmoid' object has no attribute 'reset_parameters'\n",
            "k = 4800\n",
            "resetting  l1\n",
            "resetting  l2\n",
            "Cannot reset l2 module parameters: 'Sigmoid' object has no attribute 'reset_parameters'\n",
            "k = 4850\n",
            "resetting  l1\n",
            "resetting  l2\n",
            "Cannot reset l2 module parameters: 'Sigmoid' object has no attribute 'reset_parameters'\n",
            "k = 4900\n",
            "resetting  l1\n",
            "resetting  l2\n",
            "Cannot reset l2 module parameters: 'Sigmoid' object has no attribute 'reset_parameters'\n",
            "k = 4950\n",
            "resetting  l1\n",
            "resetting  l2\n",
            "Cannot reset l2 module parameters: 'Sigmoid' object has no attribute 'reset_parameters'\n",
            "k = 5000\n",
            "resetting  l1\n",
            "resetting  l2\n",
            "Cannot reset l2 module parameters: 'Sigmoid' object has no attribute 'reset_parameters'\n",
            "k = 5050\n",
            "resetting  l1\n",
            "resetting  l2\n",
            "Cannot reset l2 module parameters: 'Sigmoid' object has no attribute 'reset_parameters'\n",
            "k = 5100\n",
            "resetting  l1\n",
            "resetting  l2\n",
            "Cannot reset l2 module parameters: 'Sigmoid' object has no attribute 'reset_parameters'\n",
            "k = 5150\n",
            "resetting  l1\n",
            "resetting  l2\n",
            "Cannot reset l2 module parameters: 'Sigmoid' object has no attribute 'reset_parameters'\n",
            "k = 5200\n",
            "resetting  l1\n",
            "resetting  l2\n",
            "Cannot reset l2 module parameters: 'Sigmoid' object has no attribute 'reset_parameters'\n",
            "k = 5250\n",
            "resetting  l1\n",
            "resetting  l2\n",
            "Cannot reset l2 module parameters: 'Sigmoid' object has no attribute 'reset_parameters'\n",
            "k = 5300\n",
            "resetting  l1\n",
            "resetting  l2\n",
            "Cannot reset l2 module parameters: 'Sigmoid' object has no attribute 'reset_parameters'\n",
            "k = 5350\n",
            "resetting  l1\n",
            "resetting  l2\n",
            "Cannot reset l2 module parameters: 'Sigmoid' object has no attribute 'reset_parameters'\n",
            "k = 5400\n",
            "resetting  l1\n",
            "resetting  l2\n",
            "Cannot reset l2 module parameters: 'Sigmoid' object has no attribute 'reset_parameters'\n",
            "k = 5450\n",
            "resetting  l1\n",
            "resetting  l2\n",
            "Cannot reset l2 module parameters: 'Sigmoid' object has no attribute 'reset_parameters'\n",
            "k = 5500\n",
            "resetting  l1\n",
            "resetting  l2\n",
            "Cannot reset l2 module parameters: 'Sigmoid' object has no attribute 'reset_parameters'\n",
            "k = 5550\n",
            "resetting  l1\n",
            "resetting  l2\n",
            "Cannot reset l2 module parameters: 'Sigmoid' object has no attribute 'reset_parameters'\n",
            "k = 5600\n",
            "resetting  l1\n",
            "resetting  l2\n",
            "Cannot reset l2 module parameters: 'Sigmoid' object has no attribute 'reset_parameters'\n",
            "k = 5650\n",
            "resetting  l1\n",
            "resetting  l2\n",
            "Cannot reset l2 module parameters: 'Sigmoid' object has no attribute 'reset_parameters'\n",
            "k = 5700\n",
            "resetting  l1\n",
            "resetting  l2\n",
            "Cannot reset l2 module parameters: 'Sigmoid' object has no attribute 'reset_parameters'\n"
          ]
        }
      ],
      "source": [
        "k_max = len(set(' '.join(texts_train).split()))\n",
        "k_arr = np.arange(100, len(set(' '.join(texts_train).split())), 50)\n",
        "test_roc_auc_results = []\n",
        "train_roc_auc_results = []\n",
        "\n",
        "for k in k_arr:\n",
        "    print(\"k = {}\".format(k))\n",
        "    \n",
        "    bow = BoW(k)\n",
        "    bow.fit(texts_train)\n",
        "    \n",
        "    X_train_bow = bow.transform(texts_train)\n",
        "    X_test_bow = bow.transform(texts_test)  \n",
        "    \n",
        "    X_train_bow_torch = torch.FloatTensor(X_train_bow) \n",
        "    X_test_bow_torch = torch.FloatTensor(X_test_bow)\n",
        "\n",
        "    y_train_torch = torch.tensor(y_train)\n",
        "    y_test_torch = torch.tensor(y_test)\n",
        "    \n",
        "    model = nn.Sequential()\n",
        "    model.add_module('l1', nn.Linear(bow.k, 2))\n",
        "    model.add_module('l2', nn.Sigmoid())\n",
        "    \n",
        "    opt = torch.optim.Adam(model.parameters(), lr=0.01)\n",
        "    \n",
        "    model = train_model(model, opt, ReduceLROnPlateau(opt), X_train_bow_torch, y_train_torch, X_test_bow_torch, y_test_torch, show_plots = False)\n",
        "    train_auc, test_auc = roc_auc(model, X_train_bow_torch, y_train, X_test_bow_torch, y_test, True)\n",
        "    test_roc_auc_results.append(test_auc)\n",
        "    train_roc_auc_results.append(train_auc)"
      ]
    },
    {
      "cell_type": "code",
      "execution_count": 36,
      "metadata": {
        "colab": {
          "base_uri": "https://localhost:8080/",
          "height": 497
        },
        "id": "VThmUKwweh0t",
        "outputId": "701d4c02-b024-404e-9fda-c1ed0115e05c"
      },
      "outputs": [
        {
          "output_type": "display_data",
          "data": {
            "text/plain": [
              "<Figure size 720x576 with 1 Axes>"
            ],
            "image/png": "[encoded data removed]"
          },
          "metadata": {
            "needs_background": "light"
          }
        }
      ],
      "source": [
        "plt.figure(figsize=(10, 8))\n",
        "plt.plot(k_arr, train_roc_auc_results, label='Train')\n",
        "plt.plot(k_arr, test_roc_auc_results, label='Test')\n",
        "plt.xlabel('k')\n",
        "plt.ylabel('roc_auc')\n",
        "plt.legend()\n",
        "plt.grid()\n",
        "plt.show()"
      ]
    },
    {
      "cell_type": "markdown",
      "metadata": {
        "id": "FwdsHOBIeh0t"
      },
      "source": [
        "### Step 2: implement TF-IDF features\n",
        "\n",
        "Not all words are equally useful. One can prioritize rare words and downscale words like \"and\"/\"or\" by using __tf-idf features__. This abbreviation stands for __text frequency/inverse document frequence__ and means exactly that:\n",
        "\n",
        "$$ feature_i = { Count(word_i \\in x) \\times { log {N \\over Count(word_i \\in D) + \\alpha} }}, $$\n",
        "\n",
        "\n",
        "where x is a single text, D is your dataset (a collection of texts), N is a total number of documents and $\\alpha$ is a smoothing hyperparameter (typically 1). \n",
        "And $Count(word_i \\in D)$ is the number of documents where $word_i$ appears.\n",
        "\n",
        "It may also be a good idea to normalize each data sample after computing tf-idf features.\n",
        "\n",
        "__Your task:__ implement tf-idf features, train a model and evaluate ROC curve. Compare it with basic BagOfWords model from above.\n",
        "\n",
        "__Please don't use sklearn/nltk builtin tf-idf vectorizers in your solution :)__ You can still use 'em for debugging though."
      ]
    },
    {
      "cell_type": "markdown",
      "metadata": {
        "id": "oEJbXLVceh0t"
      },
      "source": [
        "Blog post about implementing the TF-IDF features from scratch: https://triton.ml/blog/tf-idf-from-scratch"
      ]
    },
    {
      "cell_type": "code",
      "execution_count": 37,
      "metadata": {
        "colab": {
          "base_uri": "https://localhost:8080/"
        },
        "id": "rPBbYOeUeh0u",
        "outputId": "8ab2439e-7c69-4227-e3d5-9b43d841d508"
      },
      "outputs": [
        {
          "output_type": "execute_result",
          "data": {
            "text/plain": [
              "<features.TfIdf at 0x7f65ec784a10>"
            ]
          },
          "metadata": {},
          "execution_count": 37
        }
      ],
      "source": [
        "from features import TfIdf\n",
        "\n",
        "# Your beautiful code here\n",
        "k = min(10000, len(set(' '.join(texts_train).split())))\n",
        "tf_idf = TfIdf(k=k, normalize = True)\n",
        "tf_idf.fit(texts_train)\n",
        "\n",
        "#tf_idf.idf"
      ]
    },
    {
      "cell_type": "code",
      "execution_count": 38,
      "metadata": {
        "id": "ZCI2gQmieh0u"
      },
      "outputs": [],
      "source": [
        "X_train_tfidf = tf_idf.transform(texts_train)\n",
        "X_test_tfidf = tf_idf.transform(texts_test)"
      ]
    },
    {
      "cell_type": "code",
      "execution_count": 39,
      "metadata": {
        "colab": {
          "base_uri": "https://localhost:8080/"
        },
        "id": "a8sIpQI-eh0u",
        "outputId": "dacad9c8-35b5-4432-d0f2-6dfde12a32a4"
      },
      "outputs": [
        {
          "output_type": "execute_result",
          "data": {
            "text/plain": [
              "array([[0.        , 0.        , 0.        , ..., 0.        , 0.        ,\n",
              "        0.        ],\n",
              "       [0.01070609, 0.00944614, 0.00320882, ..., 0.        , 0.        ,\n",
              "        0.        ],\n",
              "       [0.01143305, 0.        , 0.03084033, ..., 0.        , 0.        ,\n",
              "        0.        ],\n",
              "       ...,\n",
              "       [0.00968447, 0.03204278, 0.00653089, ..., 0.07311304, 0.07311304,\n",
              "        0.02126928],\n",
              "       [0.01364171, 0.03610881, 0.03679812, ..., 0.        , 0.        ,\n",
              "        0.        ],\n",
              "       [0.01371966, 0.01815757, 0.        , ..., 0.        , 0.        ,\n",
              "        0.        ]], dtype=float32)"
            ]
          },
          "metadata": {},
          "execution_count": 39
        }
      ],
      "source": [
        "X_train_tfidf"
      ]
    },
    {
      "cell_type": "code",
      "execution_count": 40,
      "metadata": {
        "colab": {
          "base_uri": "https://localhost:8080/"
        },
        "id": "SQCok9_seh0u",
        "outputId": "29dd16b0-d695-4201-923b-e3d0017e4ff5"
      },
      "outputs": [
        {
          "output_type": "execute_result",
          "data": {
            "text/plain": [
              "array([[0.        , 0.        , 0.06168065, ..., 0.        , 0.        ,\n",
              "        0.        ],\n",
              "       [0.        , 0.04952065, 0.        , ..., 0.        , 0.        ,\n",
              "        0.        ],\n",
              "       [0.02684281, 0.        , 0.02413591, ..., 0.        , 0.        ,\n",
              "        0.        ],\n",
              "       ...,\n",
              "       [0.00623621, 0.06602754, 0.        , ..., 0.        , 0.        ,\n",
              "        0.        ],\n",
              "       [0.        , 0.09078787, 0.        , ..., 0.        , 0.        ,\n",
              "        0.        ],\n",
              "       [0.00834304, 0.02944471, 0.        , ..., 0.        , 0.        ,\n",
              "        0.        ]], dtype=float32)"
            ]
          },
          "metadata": {},
          "execution_count": 40
        }
      ],
      "source": [
        "X_test_tfidf"
      ]
    },
    {
      "cell_type": "code",
      "execution_count": 41,
      "metadata": {
        "id": "-SLIuWgfeh0v"
      },
      "outputs": [],
      "source": [
        "tfidf_model = LogisticRegression().fit(X_train_tfidf, y_train)"
      ]
    },
    {
      "cell_type": "code",
      "execution_count": 42,
      "metadata": {
        "id": "D0mrA_8Beh0v"
      },
      "outputs": [],
      "source": [
        "prep_model_list.append('TF-IDF')\n",
        "model_list.append('LR')"
      ]
    },
    {
      "cell_type": "code",
      "execution_count": 43,
      "metadata": {
        "colab": {
          "base_uri": "https://localhost:8080/",
          "height": 265
        },
        "id": "_XtLplDUeh0v",
        "outputId": "c8db531a-6514-4f9b-f342-fdaa0aee67a0"
      },
      "outputs": [
        {
          "output_type": "display_data",
          "data": {
            "text/plain": [
              "<Figure size 432x288 with 1 Axes>"
            ],
            "image/png": "[encoded data removed]"
          },
          "metadata": {
            "needs_background": "light"
          }
        }
      ],
      "source": [
        "for name, X, y, model, res_name in [\n",
        "    ('train', X_train_tfidf, y_train, tfidf_model, train_auc_list),\n",
        "    ('test ', X_test_tfidf, y_test, tfidf_model, test_auc_list)\n",
        "]:\n",
        "    proba = model.predict_proba(X)[:, 1]\n",
        "    auc = roc_auc_score(y, proba)\n",
        "    res_name.append(auc)\n",
        "    plt.plot(*roc_curve(y, proba)[:2], label='%s AUC=%.4f' % (name, auc))\n",
        "\n",
        "plt.plot([0, 1], [0, 1], '--', color='black',)\n",
        "plt.legend(fontsize='large')\n",
        "plt.grid()"
      ]
    },
    {
      "cell_type": "markdown",
      "metadata": {
        "id": "BW9Ln6Yaeh0v"
      },
      "source": [
        "Same stuff about moel and optimizers here (or just omit it, if you are using the same model as before)."
      ]
    },
    {
      "cell_type": "code",
      "execution_count": 44,
      "metadata": {
        "id": "gAYHFQh3eh0v"
      },
      "outputs": [],
      "source": [
        "X_train_tfidf_torch = torch.tensor(X_train_tfidf) ### YOUR CODE HERE\n",
        "X_test_tfidf_torch = torch.tensor(X_test_tfidf) ### YOUR CODE HERE\n",
        "\n",
        "y_train_torch = torch.tensor(y_train) ### YOUR CODE HERE\n",
        "y_test_torch = torch.tensor(y_test) ### YOUR CODE HERE"
      ]
    },
    {
      "cell_type": "markdown",
      "metadata": {
        "id": "RQEOCGuheh0w"
      },
      "source": [
        "Fit your model to the data. No not hesitate to vary number of iterations, learning rate and so on.\n",
        "\n",
        "_Note: due to very small dataset, increasing the complexity of the network might not be the best idea._"
      ]
    },
    {
      "cell_type": "code",
      "execution_count": 45,
      "metadata": {
        "colab": {
          "base_uri": "https://localhost:8080/"
        },
        "id": "zZ46SJ-7eh0w",
        "outputId": "7285becd-bc4c-4026-d229-9b5effcaab18"
      },
      "outputs": [
        {
          "output_type": "execute_result",
          "data": {
            "text/plain": [
              "CrossEntropyLoss()"
            ]
          },
          "metadata": {},
          "execution_count": 45
        }
      ],
      "source": [
        "loss_function"
      ]
    },
    {
      "cell_type": "code",
      "execution_count": 46,
      "metadata": {
        "id": "YWI307Tmeh0w"
      },
      "outputs": [],
      "source": [
        "model = nn.Sequential()\n",
        "model.add_module('l1', nn.Linear(k, 2))\n",
        "model.add_module('l2', nn.Sigmoid())\n",
        "\n",
        "loss_function = nn.CrossEntropyLoss()\n",
        "\n",
        "opt = torch.optim.Adam(model.parameters(), lr=0.001) ### YOUR CODE HERE\n",
        "\n",
        "lr_scheduler = ReduceLROnPlateau(opt)"
      ]
    },
    {
      "cell_type": "code",
      "execution_count": 47,
      "metadata": {
        "colab": {
          "base_uri": "https://localhost:8080/",
          "height": 408
        },
        "id": "opv2nG3Leh0w",
        "outputId": "1e08838e-669e-4a69-9d4c-00f931eef46c"
      },
      "outputs": [
        {
          "output_type": "display_data",
          "data": {
            "text/plain": [
              "<Figure size 1080x360 with 2 Axes>"
            ],
            "image/png": "[encoded data removed]"
          },
          "metadata": {
            "needs_background": "light"
          }
        },
        {
          "output_type": "execute_result",
          "data": {
            "text/plain": [
              "Sequential(\n",
              "  (l1): Linear(in_features=5722, out_features=2, bias=True)\n",
              "  (l2): Sigmoid()\n",
              ")"
            ]
          },
          "metadata": {},
          "execution_count": 47
        }
      ],
      "source": [
        "train_model(model, opt, lr_scheduler, X_train_tfidf_torch, y_train_torch, X_test_tfidf_torch, y_test_torch, n_iterations=1000)"
      ]
    },
    {
      "cell_type": "code",
      "execution_count": 48,
      "metadata": {
        "id": "CCc7lxz-eh0w"
      },
      "outputs": [],
      "source": [
        "prep_model_list.append('TF-IDF')\n",
        "model_list.append('SimpleNN')"
      ]
    },
    {
      "cell_type": "code",
      "execution_count": 49,
      "metadata": {
        "colab": {
          "base_uri": "https://localhost:8080/",
          "height": 265
        },
        "id": "nI5-s3mneh0x",
        "outputId": "a7663f34-89fe-4c8f-e34f-554ac968816a"
      },
      "outputs": [
        {
          "output_type": "display_data",
          "data": {
            "text/plain": [
              "<Figure size 432x288 with 1 Axes>"
            ],
            "image/png": "[encoded data removed]"
          },
          "metadata": {
            "needs_background": "light"
          }
        }
      ],
      "source": [
        "for name, X, y, model, res_name in [\n",
        "    ('train', X_train_tfidf_torch, y_train, model, train_auc_list),\n",
        "    ('test ', X_test_tfidf_torch, y_test, model, test_auc_list)\n",
        "]:\n",
        "    proba = model(X).detach().cpu().numpy()[:, 1]\n",
        "    auc = roc_auc_score(y, proba)\n",
        "    res_name.append(auc)\n",
        "    plt.plot(*roc_curve(y, proba)[:2], label='%s AUC=%.4f' % (name, auc))\n",
        "\n",
        "plt.plot([0, 1], [0, 1], '--', color='black',)\n",
        "plt.legend(fontsize='large')\n",
        "plt.grid()"
      ]
    },
    {
      "cell_type": "markdown",
      "metadata": {
        "id": "-m04evY3eh0x"
      },
      "source": [
        "### Step 3: Comparing it with Naive Bayes\n",
        "\n",
        "Naive Bayes classifier is a good choice for such small problems. Try to tune it for both BOW and TF-iDF features. Compare the results with Logistic Regression."
      ]
    },
    {
      "cell_type": "code",
      "execution_count": 50,
      "metadata": {
        "colab": {
          "base_uri": "https://localhost:8080/"
        },
        "id": "xufGV3Rmeh0x",
        "outputId": "1d4904eb-8827-4656-877e-78163a909050"
      },
      "outputs": [
        {
          "output_type": "execute_result",
          "data": {
            "text/plain": [
              "BernoulliNB()"
            ]
          },
          "metadata": {},
          "execution_count": 50
        }
      ],
      "source": [
        "# Your beautiful code here\n",
        "from sklearn.naive_bayes import MultinomialNB, BernoulliNB\n",
        "\n",
        "multinomial_nb_bow = MultinomialNB()\n",
        "bernoulli_nb_bow = BernoulliNB()\n",
        "\n",
        "multinomial_nb_bow.fit(X_train_bow, y_train)\n",
        "bernoulli_nb_bow.fit(X_train_bow, y_train)"
      ]
    },
    {
      "cell_type": "code",
      "execution_count": 51,
      "metadata": {
        "id": "4vwC3AsKeh0x"
      },
      "outputs": [],
      "source": [
        "prep_model_list.append('BoW')\n",
        "model_list.append('MultinomialNB')"
      ]
    },
    {
      "cell_type": "code",
      "execution_count": 52,
      "metadata": {
        "colab": {
          "base_uri": "https://localhost:8080/",
          "height": 281
        },
        "id": "bXkOtUJCeh0x",
        "outputId": "fad4de82-645b-4014-b6ef-404e74070e24"
      },
      "outputs": [
        {
          "output_type": "display_data",
          "data": {
            "text/plain": [
              "<Figure size 432x288 with 1 Axes>"
            ],
            "image/png": "[encoded data removed]"
          },
          "metadata": {
            "needs_background": "light"
          }
        }
      ],
      "source": [
        "for name, X, y, model, res_name in [\n",
        "    ('train', X_train_bow, y_train, multinomial_nb_bow, train_auc_list),\n",
        "    ('test ', X_test_bow, y_test, multinomial_nb_bow, test_auc_list)\n",
        "]:\n",
        "    proba = model.predict_proba(X)[:, 1]\n",
        "    auc = roc_auc_score(y, proba)\n",
        "    res_name.append(auc)\n",
        "    plt.plot(*roc_curve(y, proba)[:2], label='%s AUC=%.4f' % (name, auc))\n",
        "\n",
        "plt.title('Multinomial NB on BoW features')\n",
        "plt.plot([0, 1], [0, 1], '--', color='black',)\n",
        "plt.legend(fontsize='large')\n",
        "plt.grid()"
      ]
    },
    {
      "cell_type": "code",
      "execution_count": 53,
      "metadata": {
        "id": "HQdyei_Neh0y"
      },
      "outputs": [],
      "source": [
        "prep_model_list.append('BoW')\n",
        "model_list.append('BernoulliNB')"
      ]
    },
    {
      "cell_type": "code",
      "execution_count": 54,
      "metadata": {
        "colab": {
          "base_uri": "https://localhost:8080/",
          "height": 281
        },
        "id": "khzbiTaoeh0y",
        "outputId": "d1a463dd-9b37-4105-ca34-663e944ddd67"
      },
      "outputs": [
        {
          "output_type": "display_data",
          "data": {
            "text/plain": [
              "<Figure size 432x288 with 1 Axes>"
            ],
            "image/png": "[encoded data removed]"
          },
          "metadata": {
            "needs_background": "light"
          }
        }
      ],
      "source": [
        "for name, X, y, model, res_name in [\n",
        "    ('train', X_train_bow, y_train, bernoulli_nb_bow, train_auc_list),\n",
        "    ('test ', X_test_bow, y_test, bernoulli_nb_bow, test_auc_list)\n",
        "]:\n",
        "    proba = model.predict_proba(X)[:, 1]\n",
        "    auc = roc_auc_score(y, proba)\n",
        "    res_name.append(auc)\n",
        "    plt.plot(*roc_curve(y, proba)[:2], label='%s AUC=%.4f' % (name, auc))\n",
        "\n",
        "plt.title('Bernoulli NB on BoW features')\n",
        "plt.plot([0, 1], [0, 1], '--', color='black',)\n",
        "plt.legend(fontsize='large')\n",
        "plt.grid()"
      ]
    },
    {
      "cell_type": "code",
      "execution_count": 55,
      "metadata": {
        "colab": {
          "base_uri": "https://localhost:8080/"
        },
        "id": "Uxns8cBqeh0y",
        "outputId": "92ee5c5a-c668-43a1-a47f-32aaa11367c0"
      },
      "outputs": [
        {
          "output_type": "execute_result",
          "data": {
            "text/plain": [
              "BernoulliNB()"
            ]
          },
          "metadata": {},
          "execution_count": 55
        }
      ],
      "source": [
        "multinomial_nb_tfidf = MultinomialNB()\n",
        "bernoulli_nb_tfidf = BernoulliNB()\n",
        "\n",
        "multinomial_nb_tfidf.fit(X_train_tfidf, y_train)\n",
        "bernoulli_nb_tfidf.fit(X_train_tfidf, y_train)"
      ]
    },
    {
      "cell_type": "code",
      "execution_count": 56,
      "metadata": {
        "id": "hYO-8Qjgeh0y"
      },
      "outputs": [],
      "source": [
        "prep_model_list.append('TF-IDF')\n",
        "model_list.append('MultinomialNB')"
      ]
    },
    {
      "cell_type": "code",
      "execution_count": 57,
      "metadata": {
        "colab": {
          "base_uri": "https://localhost:8080/",
          "height": 281
        },
        "id": "w387I-BPeh0y",
        "outputId": "80c1979a-ca8e-4138-ec2b-97791b29a3a8"
      },
      "outputs": [
        {
          "output_type": "display_data",
          "data": {
            "text/plain": [
              "<Figure size 432x288 with 1 Axes>"
            ],
            "image/png": "[encoded data removed]"
          },
          "metadata": {
            "needs_background": "light"
          }
        }
      ],
      "source": [
        "for name, X, y, model, res_name in [\n",
        "    ('train', X_train_tfidf, y_train, multinomial_nb_tfidf, train_auc_list),\n",
        "    ('test ', X_test_tfidf, y_test, multinomial_nb_tfidf, test_auc_list)\n",
        "]:\n",
        "    proba = model.predict_proba(X)[:, 1]\n",
        "    auc = roc_auc_score(y, proba)\n",
        "    res_name.append(auc)\n",
        "    plt.plot(*roc_curve(y, proba)[:2], label='%s AUC=%.4f' % (name, auc))\n",
        "\n",
        "plt.title('Multinomial NB on TFiDF features')\n",
        "plt.plot([0, 1], [0, 1], '--', color='black',)\n",
        "plt.legend(fontsize='large')\n",
        "plt.grid()"
      ]
    },
    {
      "cell_type": "code",
      "execution_count": 58,
      "metadata": {
        "id": "VmjYexZbeh0y"
      },
      "outputs": [],
      "source": [
        "prep_model_list.append('TF-IDF')\n",
        "model_list.append('BernoulliNB')"
      ]
    },
    {
      "cell_type": "code",
      "execution_count": 59,
      "metadata": {
        "colab": {
          "base_uri": "https://localhost:8080/",
          "height": 281
        },
        "id": "dsaEyVhyeh0z",
        "outputId": "d7178f63-6721-4cf0-a250-ef3fb80f9e0c"
      },
      "outputs": [
        {
          "output_type": "display_data",
          "data": {
            "text/plain": [
              "<Figure size 432x288 with 1 Axes>"
            ],
            "image/png": "[encoded data removed]"
          },
          "metadata": {
            "needs_background": "light"
          }
        }
      ],
      "source": [
        "for name, X, y, model, res_name in [\n",
        "    ('train', X_train_tfidf, y_train, bernoulli_nb_tfidf, train_auc_list),\n",
        "    ('test ', X_test_tfidf, y_test, bernoulli_nb_tfidf, test_auc_list)\n",
        "]:\n",
        "    proba = model.predict_proba(X)[:, 1]\n",
        "    auc = roc_auc_score(y, proba)\n",
        "    res_name.append(auc)\n",
        "    plt.plot(*roc_curve(y, proba)[:2], label='%s AUC=%.4f' % (name, auc))\n",
        "\n",
        "plt.title('Bernoulli NB on TFiDF features')\n",
        "plt.plot([0, 1], [0, 1], '--', color='black',)\n",
        "plt.legend(fontsize='large')\n",
        "plt.grid()"
      ]
    },
    {
      "cell_type": "markdown",
      "metadata": {
        "id": "-icCUMLleh0z"
      },
      "source": [
        "Shape some thoughts on the results you aquired. Which model has show the best performance? Did changing the learning rate/lr scheduler help?"
      ]
    },
    {
      "cell_type": "code",
      "execution_count": 60,
      "metadata": {
        "id": "CZDEva2Peh0z"
      },
      "outputs": [],
      "source": [
        "tmp_results = pd.DataFrame()"
      ]
    },
    {
      "cell_type": "code",
      "execution_count": 61,
      "metadata": {
        "id": "oPcGkxjmeh0z"
      },
      "outputs": [],
      "source": [
        "tmp_results['PrepModel'] = prep_model_list\n",
        "tmp_results['Model'] = model_list\n",
        "tmp_results['Train AUC'] = train_auc_list\n",
        "tmp_results['Test AUC'] = test_auc_list"
      ]
    },
    {
      "cell_type": "markdown",
      "metadata": {
        "id": "oiBRrvXYeh0z"
      },
      "source": [
        "_Your beautiful thoughts here_"
      ]
    },
    {
      "cell_type": "code",
      "execution_count": 62,
      "metadata": {
        "colab": {
          "base_uri": "https://localhost:8080/",
          "height": 300
        },
        "id": "WubVTJJ_eh0z",
        "outputId": "b5929c5f-3185-4980-bc4f-f159edaed8b1"
      },
      "outputs": [
        {
          "output_type": "execute_result",
          "data": {
            "text/plain": [
              "  PrepModel          Model  Train AUC  Test AUC\n",
              "6    TF-IDF  MultinomialNB   0.997724  0.880325\n",
              "3    TF-IDF       SimpleNN   0.999663  0.870476\n",
              "2    TF-IDF             LR   0.978711  0.869221\n",
              "1       BoW       SimpleNN   0.995976  0.847189\n",
              "4       BoW  MultinomialNB   0.990301  0.837759\n",
              "0       BoW             LR   1.000000  0.835120\n",
              "5       BoW    BernoulliNB   0.975120  0.796979\n",
              "7    TF-IDF    BernoulliNB   0.975184  0.796963"
            ],
            "text/html": [
              "\n",
              "  <div id=\"df-23ad7885-b586-4318-8563-8fb40b023ad5\">\n",
              "    <div class=\"colab-df-container\">\n",
              "      <div>\n",
              "<style scoped>\n",
              "    .dataframe tbody tr th:only-of-type {\n",
              "        vertical-align: middle;\n",
              "    }\n",
              "\n",
              "    .dataframe tbody tr th {\n",
              "        vertical-align: top;\n",
              "    }\n",
              "\n",
              "    .dataframe thead th {\n",
              "        text-align: right;\n",
              "    }\n",
              "</style>\n",
              "<table border=\"1\" class=\"dataframe\">\n",
              "  <thead>\n",
              "    <tr style=\"text-align: right;\">\n",
              "      <th></th>\n",
              "      <th>PrepModel</th>\n",
              "      <th>Model</th>\n",
              "      <th>Train AUC</th>\n",
              "      <th>Test AUC</th>\n",
              "    </tr>\n",
              "  </thead>\n",
              "  <tbody>\n",
              "    <tr>\n",
              "      <th>6</th>\n",
              "      <td>TF-IDF</td>\n",
              "      <td>MultinomialNB</td>\n",
              "      <td>0.997724</td>\n",
              "      <td>0.880325</td>\n",
              "    </tr>\n",
              "    <tr>\n",
              "      <th>3</th>\n",
              "      <td>TF-IDF</td>\n",
              "      <td>SimpleNN</td>\n",
              "      <td>0.999663</td>\n",
              "      <td>0.870476</td>\n",
              "    </tr>\n",
              "    <tr>\n",
              "      <th>2</th>\n",
              "      <td>TF-IDF</td>\n",
              "      <td>LR</td>\n",
              "      <td>0.978711</td>\n",
              "      <td>0.869221</td>\n",
              "    </tr>\n",
              "    <tr>\n",
              "      <th>1</th>\n",
              "      <td>BoW</td>\n",
              "      <td>SimpleNN</td>\n",
              "      <td>0.995976</td>\n",
              "      <td>0.847189</td>\n",
              "    </tr>\n",
              "    <tr>\n",
              "      <th>4</th>\n",
              "      <td>BoW</td>\n",
              "      <td>MultinomialNB</td>\n",
              "      <td>0.990301</td>\n",
              "      <td>0.837759</td>\n",
              "    </tr>\n",
              "    <tr>\n",
              "      <th>0</th>\n",
              "      <td>BoW</td>\n",
              "      <td>LR</td>\n",
              "      <td>1.000000</td>\n",
              "      <td>0.835120</td>\n",
              "    </tr>\n",
              "    <tr>\n",
              "      <th>5</th>\n",
              "      <td>BoW</td>\n",
              "      <td>BernoulliNB</td>\n",
              "      <td>0.975120</td>\n",
              "      <td>0.796979</td>\n",
              "    </tr>\n",
              "    <tr>\n",
              "      <th>7</th>\n",
              "      <td>TF-IDF</td>\n",
              "      <td>BernoulliNB</td>\n",
              "      <td>0.975184</td>\n",
              "      <td>0.796963</td>\n",
              "    </tr>\n",
              "  </tbody>\n",
              "</table>\n",
              "</div>\n",
              "      <button class=\"colab-df-convert\" onclick=\"convertToInteractive('df-23ad7885-b586-4318-8563-8fb40b023ad5')\"\n",
              "              title=\"Convert this dataframe to an interactive table.\"\n",
              "              style=\"display:none;\">\n",
              "        \n",
              "  <svg xmlns=\"http://www.w3.org/2000/svg\" height=\"24px\"viewBox=\"0 0 24 24\"\n",
              "       width=\"24px\">\n",
              "    <path d=\"M0 0h24v24H0V0z\" fill=\"none\"/>\n",
              "    <path d=\"M18.56 5.44l.94 2.06.94-2.06 2.06-.94-2.06-.94-.94-2.06-.94 2.06-2.06.94zm-11 1L8.5 8.5l.94-2.06 2.06-.94-2.06-.94L8.5 2.5l-.94 2.06-2.06.94zm10 10l.94 2.06.94-2.06 2.06-.94-2.06-.94-.94-2.06-.94 2.06-2.06.94z\"/><path d=\"M17.41 7.96l-1.37-1.37c-.4-.4-.92-.59-1.43-.59-.52 0-1.04.2-1.43.59L10.3 9.45l-7.72 7.72c-.78.78-.78 2.05 0 2.83L4 21.41c.39.39.9.59 1.41.59.51 0 1.02-.2 1.41-.59l7.78-7.78 2.81-2.81c.8-.78.8-2.07 0-2.86zM5.41 20L4 18.59l7.72-7.72 1.47 1.35L5.41 20z\"/>\n",
              "  </svg>\n",
              "      </button>\n",
              "      \n",
              "  <style>\n",
              "    .colab-df-container {\n",
              "      display:flex;\n",
              "      flex-wrap:wrap;\n",
              "      gap: 12px;\n",
              "    }\n",
              "\n",
              "    .colab-df-convert {\n",
              "      background-color: #E8F0FE;\n",
              "      border: none;\n",
              "      border-radius: 50%;\n",
              "      cursor: pointer;\n",
              "      display: none;\n",
              "      fill: #1967D2;\n",
              "      height: 32px;\n",
              "      padding: 0 0 0 0;\n",
              "      width: 32px;\n",
              "    }\n",
              "\n",
              "    .colab-df-convert:hover {\n",
              "      background-color: #E2EBFA;\n",
              "      box-shadow: 0px 1px 2px rgba(60, 64, 67, 0.3), 0px 1px 3px 1px rgba(60, 64, 67, 0.15);\n",
              "      fill: #174EA6;\n",
              "    }\n",
              "\n",
              "    [theme=dark] .colab-df-convert {\n",
              "      background-color: #3B4455;\n",
              "      fill: #D2E3FC;\n",
              "    }\n",
              "\n",
              "    [theme=dark] .colab-df-convert:hover {\n",
              "      background-color: #434B5C;\n",
              "      box-shadow: 0px 1px 3px 1px rgba(0, 0, 0, 0.15);\n",
              "      filter: drop-shadow(0px 1px 2px rgba(0, 0, 0, 0.3));\n",
              "      fill: #FFFFFF;\n",
              "    }\n",
              "  </style>\n",
              "\n",
              "      <script>\n",
              "        const buttonEl =\n",
              "          document.querySelector('#df-23ad7885-b586-4318-8563-8fb40b023ad5 button.colab-df-convert');\n",
              "        buttonEl.style.display =\n",
              "          google.colab.kernel.accessAllowed ? 'block' : 'none';\n",
              "\n",
              "        async function convertToInteractive(key) {\n",
              "          const element = document.querySelector('#df-23ad7885-b586-4318-8563-8fb40b023ad5');\n",
              "          const dataTable =\n",
              "            await google.colab.kernel.invokeFunction('convertToInteractive',\n",
              "                                                     [key], {});\n",
              "          if (!dataTable) return;\n",
              "\n",
              "          const docLinkHtml = 'Like what you see? Visit the ' +\n",
              "            '<a target=\"_blank\" href=https://colab.research.google.com/notebooks/data_table.ipynb>data table notebook</a>'\n",
              "            + ' to learn more about interactive tables.';\n",
              "          element.innerHTML = '';\n",
              "          dataTable['output_type'] = 'display_data';\n",
              "          await google.colab.output.renderOutput(dataTable, element);\n",
              "          const docLink = document.createElement('div');\n",
              "          docLink.innerHTML = docLinkHtml;\n",
              "          element.appendChild(docLink);\n",
              "        }\n",
              "      </script>\n",
              "    </div>\n",
              "  </div>\n",
              "  "
            ]
          },
          "metadata": {},
          "execution_count": 62
        }
      ],
      "source": [
        "tmp_results.sort_values(['Test AUC'], ascending=False)"
      ]
    },
    {
      "cell_type": "markdown",
      "metadata": {
        "id": "CLVcAUsYeh00"
      },
      "source": [
        "### Step 4: Using the external knowledge.\n",
        "\n",
        "Use the `gensim` word2vec pretrained model to translate words into vectors. Use several models with this new encoding technique. Compare the results, share your thoughts."
      ]
    },
    {
      "cell_type": "code",
      "execution_count": 63,
      "metadata": {
        "id": "A6VpHKnVeh00"
      },
      "outputs": [],
      "source": [
        "#!pip install gensim"
      ]
    },
    {
      "cell_type": "code",
      "execution_count": 64,
      "metadata": {
        "colab": {
          "base_uri": "https://localhost:8080/"
        },
        "id": "LB2NkJ5Ceh00",
        "outputId": "5a194f0e-f376-4cc5-fcc3-c4f2f399df04"
      },
      "outputs": [
        {
          "output_type": "stream",
          "name": "stdout",
          "text": [
            "['fasttext-wiki-news-subwords-300', 'conceptnet-numberbatch-17-06-300', 'word2vec-ruscorpora-300', 'word2vec-google-news-300', 'glove-wiki-gigaword-50', 'glove-wiki-gigaword-100', 'glove-wiki-gigaword-200', 'glove-wiki-gigaword-300', 'glove-twitter-25', 'glove-twitter-50', 'glove-twitter-100', 'glove-twitter-200', '__testing_word2vec-matrix-synopsis']\n"
          ]
        }
      ],
      "source": [
        "# Your beautiful code here\n",
        "import gensim.downloader\n",
        "print(list(gensim.downloader.info()['models'].keys()))"
      ]
    },
    {
      "cell_type": "code",
      "execution_count": 65,
      "metadata": {
        "colab": {
          "base_uri": "https://localhost:8080/"
        },
        "id": "AdJAT-Ndeh00",
        "outputId": "dcc9603f-bd69-4da3-8905-5e825311b246"
      },
      "outputs": [
        {
          "output_type": "stream",
          "name": "stdout",
          "text": [
            "[==================================================] 100.0% 758.5/758.5MB downloaded\n"
          ]
        }
      ],
      "source": [
        "glove_vectors = gensim.downloader.load('glove-twitter-200')"
      ]
    },
    {
      "cell_type": "code",
      "execution_count": 66,
      "metadata": {
        "id": "R93z5X5Qeh00"
      },
      "outputs": [],
      "source": [
        "def get_emb(text, model):\n",
        "    emb = []\n",
        "    words = text.split()\n",
        "    emb = np.zeros([model.vector_size], dtype = 'float32')\n",
        "    text_vec = [model[word] for word in words if word in model]\n",
        "    if len(text_vec) != 0:\n",
        "        emb = np.mean(text_vec, axis = 0)\n",
        "    return emb.tolist()"
      ]
    },
    {
      "cell_type": "code",
      "execution_count": 67,
      "metadata": {
        "id": "OSeyR2S2eh00"
      },
      "outputs": [],
      "source": [
        "X_train_w2v = [get_emb(text, glove_vectors) for text in  texts_train]\n",
        "X_test_w2v = [get_emb(text, glove_vectors) for text in  texts_test]\n",
        "\n",
        "X_train_w2v_torch = torch.tensor(X_train_w2v)\n",
        "X_test_w2v_torch = torch.tensor(X_test_w2v)\n",
        "\n",
        "y_train_torch = torch.tensor(y_train) \n",
        "y_test_torch = torch.tensor(y_test)"
      ]
    },
    {
      "cell_type": "code",
      "execution_count": 68,
      "metadata": {
        "id": "kC5rcOQeeh01"
      },
      "outputs": [],
      "source": [
        "w2v_model = LogisticRegression().fit(X_train_w2v, y_train)"
      ]
    },
    {
      "cell_type": "code",
      "execution_count": 69,
      "metadata": {
        "id": "pv--yAkJeh01"
      },
      "outputs": [],
      "source": [
        "prep_model_list.append('w2v')\n",
        "model_list.append('LR')"
      ]
    },
    {
      "cell_type": "code",
      "execution_count": 70,
      "metadata": {
        "colab": {
          "base_uri": "https://localhost:8080/",
          "height": 265
        },
        "id": "EKzEbMfmeh01",
        "outputId": "a73ff2dc-0843-4fe0-8cd7-c482e64fd757"
      },
      "outputs": [
        {
          "output_type": "display_data",
          "data": {
            "text/plain": [
              "<Figure size 432x288 with 1 Axes>"
            ],
            "image/png": "[encoded data removed]"
          },
          "metadata": {
            "needs_background": "light"
          }
        }
      ],
      "source": [
        "for name, X, y, model, res_name in [\n",
        "    ('train', X_train_w2v, y_train, w2v_model, train_auc_list),\n",
        "    ('test ', X_test_w2v, y_test, w2v_model, test_auc_list)\n",
        "]:\n",
        "    proba = model.predict_proba(X)[:, 1]\n",
        "    auc = roc_auc_score(y, proba)\n",
        "    res_name.append(auc)\n",
        "    plt.plot(*roc_curve(y, proba)[:2], label='%s AUC=%.4f' % (name, auc))\n",
        "\n",
        "plt.plot([0, 1], [0, 1], '--', color='black',)\n",
        "plt.legend(fontsize='large')\n",
        "plt.grid()"
      ]
    },
    {
      "cell_type": "code",
      "execution_count": 71,
      "metadata": {
        "id": "E7mxbYCIeh01"
      },
      "outputs": [],
      "source": [
        "model = nn.Sequential()\n",
        "model.add_module('l1', nn.Linear(glove_vectors.vector_size, 2))\n",
        "model.add_module('l2', nn.Sigmoid())\n",
        "\n",
        "loss_function = nn.CrossEntropyLoss()\n",
        "\n",
        "opt = torch.optim.Adam(model.parameters(), lr=0.001) ### YOUR CODE HERE\n",
        "\n",
        "lr_scheduler = ReduceLROnPlateau(opt)"
      ]
    },
    {
      "cell_type": "code",
      "execution_count": 72,
      "metadata": {
        "colab": {
          "base_uri": "https://localhost:8080/",
          "height": 408
        },
        "id": "RLZlq1wzeh01",
        "outputId": "8f3b95f5-243c-4ca4-dd48-88a387324678"
      },
      "outputs": [
        {
          "output_type": "display_data",
          "data": {
            "text/plain": [
              "<Figure size 1080x360 with 2 Axes>"
            ],
            "image/png": "[encoded data removed]"
          },
          "metadata": {
            "needs_background": "light"
          }
        },
        {
          "output_type": "execute_result",
          "data": {
            "text/plain": [
              "Sequential(\n",
              "  (l1): Linear(in_features=200, out_features=2, bias=True)\n",
              "  (l2): Sigmoid()\n",
              ")"
            ]
          },
          "metadata": {},
          "execution_count": 72
        }
      ],
      "source": [
        "train_model(model, opt, lr_scheduler, X_train_w2v_torch, y_train_torch, X_test_w2v_torch, y_test_torch, n_iterations=1000)"
      ]
    },
    {
      "cell_type": "code",
      "execution_count": 73,
      "metadata": {
        "id": "aD44VHdoeh01"
      },
      "outputs": [],
      "source": [
        "prep_model_list.append('w2v')\n",
        "model_list.append('SimpleNN')"
      ]
    },
    {
      "cell_type": "code",
      "execution_count": 74,
      "metadata": {
        "colab": {
          "base_uri": "https://localhost:8080/",
          "height": 265
        },
        "id": "CMnurCi7eh02",
        "outputId": "1a600290-15cb-43c2-8cf2-dc685f25f0ea"
      },
      "outputs": [
        {
          "output_type": "display_data",
          "data": {
            "text/plain": [
              "<Figure size 432x288 with 1 Axes>"
            ],
            "image/png": "[encoded data removed]"
          },
          "metadata": {
            "needs_background": "light"
          }
        }
      ],
      "source": [
        "for name, X, y, model, res_name in [\n",
        "    ('train', X_train_w2v_torch, y_train, model, train_auc_list),\n",
        "    ('test ', X_test_w2v_torch, y_test, model, test_auc_list)\n",
        "]:\n",
        "    proba = model(X).detach().cpu().numpy()[:, 1]\n",
        "    auc = roc_auc_score(y, proba)\n",
        "    res_name.append(auc)\n",
        "    plt.plot(*roc_curve(y, proba)[:2], label='%s AUC=%.4f' % (name, auc))\n",
        "\n",
        "plt.plot([0, 1], [0, 1], '--', color='black',)\n",
        "plt.legend(fontsize='large')\n",
        "plt.grid()"
      ]
    },
    {
      "cell_type": "code",
      "execution_count": 75,
      "metadata": {
        "colab": {
          "base_uri": "https://localhost:8080/"
        },
        "id": "hrUtQv1weh02",
        "outputId": "f8647544-768d-4b05-c600-104b7856ca3f"
      },
      "outputs": [
        {
          "output_type": "stream",
          "name": "stdout",
          "text": [
            "['BoW', 'BoW', 'TF-IDF', 'TF-IDF', 'BoW', 'BoW', 'TF-IDF', 'TF-IDF', 'w2v', 'w2v']\n",
            "['LR', 'SimpleNN', 'LR', 'SimpleNN', 'MultinomialNB', 'BernoulliNB', 'MultinomialNB', 'BernoulliNB', 'LR', 'SimpleNN']\n",
            "[1.0, 0.9959762099424486, 0.9787107840779748, 0.9996633482421969, 0.9903012231680534, 0.9751198319947417, 0.9977235928758076, 0.9751839561390853, 0.9593933855945109, 0.9200852851119767]\n",
            "[0.8351196511047813, 0.8471893657767264, 0.8692206182912502, 0.8704758686171327, 0.8377588953797133, 0.7969793527414346, 0.8803247557894397, 0.7969632597885387, 0.9177971966076055, 0.9029755869904569]\n"
          ]
        }
      ],
      "source": [
        "print(prep_model_list)\n",
        "print(model_list)\n",
        "print(train_auc_list)\n",
        "print(test_auc_list)"
      ]
    },
    {
      "cell_type": "code",
      "execution_count": 76,
      "metadata": {
        "id": "RFkurFRleh02"
      },
      "outputs": [],
      "source": [
        "results['PrepModel'] = prep_model_list\n",
        "results['Model'] = model_list\n",
        "results['Train AUC'] = train_auc_list\n",
        "results['Test AUC'] = test_auc_list"
      ]
    },
    {
      "cell_type": "code",
      "execution_count": 77,
      "metadata": {
        "id": "ZgM-fEZueh02"
      },
      "outputs": [],
      "source": [
        "results['AUC diff'] = abs(results['Train AUC'] - results['Test AUC'])"
      ]
    },
    {
      "cell_type": "code",
      "execution_count": 79,
      "metadata": {
        "colab": {
          "base_uri": "https://localhost:8080/",
          "height": 363
        },
        "id": "t-rGDuZceh02",
        "outputId": "de7ad0a3-3d7f-4977-9a2e-f6a0171da32f"
      },
      "outputs": [
        {
          "output_type": "execute_result",
          "data": {
            "text/plain": [
              "  PrepModel          Model  Train AUC  Test AUC  AUC diff\n",
              "9       w2v       SimpleNN   0.920085  0.902976  0.017110\n",
              "8       w2v             LR   0.959393  0.917797  0.041596\n",
              "2    TF-IDF             LR   0.978711  0.869221  0.109490\n",
              "6    TF-IDF  MultinomialNB   0.997724  0.880325  0.117399\n",
              "3    TF-IDF       SimpleNN   0.999663  0.870476  0.129187\n",
              "1       BoW       SimpleNN   0.995976  0.847189  0.148787\n",
              "4       BoW  MultinomialNB   0.990301  0.837759  0.152542\n",
              "0       BoW             LR   1.000000  0.835120  0.164880\n",
              "5       BoW    BernoulliNB   0.975120  0.796979  0.178140\n",
              "7    TF-IDF    BernoulliNB   0.975184  0.796963  0.178221"
            ],
            "text/html": [
              "\n",
              "  <div id=\"df-396186f8-f0ef-4c99-bca7-d6f0717bd00e\">\n",
              "    <div class=\"colab-df-container\">\n",
              "      <div>\n",
              "<style scoped>\n",
              "    .dataframe tbody tr th:only-of-type {\n",
              "        vertical-align: middle;\n",
              "    }\n",
              "\n",
              "    .dataframe tbody tr th {\n",
              "        vertical-align: top;\n",
              "    }\n",
              "\n",
              "    .dataframe thead th {\n",
              "        text-align: right;\n",
              "    }\n",
              "</style>\n",
              "<table border=\"1\" class=\"dataframe\">\n",
              "  <thead>\n",
              "    <tr style=\"text-align: right;\">\n",
              "      <th></th>\n",
              "      <th>PrepModel</th>\n",
              "      <th>Model</th>\n",
              "      <th>Train AUC</th>\n",
              "      <th>Test AUC</th>\n",
              "      <th>AUC diff</th>\n",
              "    </tr>\n",
              "  </thead>\n",
              "  <tbody>\n",
              "    <tr>\n",
              "      <th>9</th>\n",
              "      <td>w2v</td>\n",
              "      <td>SimpleNN</td>\n",
              "      <td>0.920085</td>\n",
              "      <td>0.902976</td>\n",
              "      <td>0.017110</td>\n",
              "    </tr>\n",
              "    <tr>\n",
              "      <th>8</th>\n",
              "      <td>w2v</td>\n",
              "      <td>LR</td>\n",
              "      <td>0.959393</td>\n",
              "      <td>0.917797</td>\n",
              "      <td>0.041596</td>\n",
              "    </tr>\n",
              "    <tr>\n",
              "      <th>2</th>\n",
              "      <td>TF-IDF</td>\n",
              "      <td>LR</td>\n",
              "      <td>0.978711</td>\n",
              "      <td>0.869221</td>\n",
              "      <td>0.109490</td>\n",
              "    </tr>\n",
              "    <tr>\n",
              "      <th>6</th>\n",
              "      <td>TF-IDF</td>\n",
              "      <td>MultinomialNB</td>\n",
              "      <td>0.997724</td>\n",
              "      <td>0.880325</td>\n",
              "      <td>0.117399</td>\n",
              "    </tr>\n",
              "    <tr>\n",
              "      <th>3</th>\n",
              "      <td>TF-IDF</td>\n",
              "      <td>SimpleNN</td>\n",
              "      <td>0.999663</td>\n",
              "      <td>0.870476</td>\n",
              "      <td>0.129187</td>\n",
              "    </tr>\n",
              "    <tr>\n",
              "      <th>1</th>\n",
              "      <td>BoW</td>\n",
              "      <td>SimpleNN</td>\n",
              "      <td>0.995976</td>\n",
              "      <td>0.847189</td>\n",
              "      <td>0.148787</td>\n",
              "    </tr>\n",
              "    <tr>\n",
              "      <th>4</th>\n",
              "      <td>BoW</td>\n",
              "      <td>MultinomialNB</td>\n",
              "      <td>0.990301</td>\n",
              "      <td>0.837759</td>\n",
              "      <td>0.152542</td>\n",
              "    </tr>\n",
              "    <tr>\n",
              "      <th>0</th>\n",
              "      <td>BoW</td>\n",
              "      <td>LR</td>\n",
              "      <td>1.000000</td>\n",
              "      <td>0.835120</td>\n",
              "      <td>0.164880</td>\n",
              "    </tr>\n",
              "    <tr>\n",
              "      <th>5</th>\n",
              "      <td>BoW</td>\n",
              "      <td>BernoulliNB</td>\n",
              "      <td>0.975120</td>\n",
              "      <td>0.796979</td>\n",
              "      <td>0.178140</td>\n",
              "    </tr>\n",
              "    <tr>\n",
              "      <th>7</th>\n",
              "      <td>TF-IDF</td>\n",
              "      <td>BernoulliNB</td>\n",
              "      <td>0.975184</td>\n",
              "      <td>0.796963</td>\n",
              "      <td>0.178221</td>\n",
              "    </tr>\n",
              "  </tbody>\n",
              "</table>\n",
              "</div>\n",
              "      <button class=\"colab-df-convert\" onclick=\"convertToInteractive('df-396186f8-f0ef-4c99-bca7-d6f0717bd00e')\"\n",
              "              title=\"Convert this dataframe to an interactive table.\"\n",
              "              style=\"display:none;\">\n",
              "        \n",
              "  <svg xmlns=\"http://www.w3.org/2000/svg\" height=\"24px\"viewBox=\"0 0 24 24\"\n",
              "       width=\"24px\">\n",
              "    <path d=\"M0 0h24v24H0V0z\" fill=\"none\"/>\n",
              "    <path d=\"M18.56 5.44l.94 2.06.94-2.06 2.06-.94-2.06-.94-.94-2.06-.94 2.06-2.06.94zm-11 1L8.5 8.5l.94-2.06 2.06-.94-2.06-.94L8.5 2.5l-.94 2.06-2.06.94zm10 10l.94 2.06.94-2.06 2.06-.94-2.06-.94-.94-2.06-.94 2.06-2.06.94z\"/><path d=\"M17.41 7.96l-1.37-1.37c-.4-.4-.92-.59-1.43-.59-.52 0-1.04.2-1.43.59L10.3 9.45l-7.72 7.72c-.78.78-.78 2.05 0 2.83L4 21.41c.39.39.9.59 1.41.59.51 0 1.02-.2 1.41-.59l7.78-7.78 2.81-2.81c.8-.78.8-2.07 0-2.86zM5.41 20L4 18.59l7.72-7.72 1.47 1.35L5.41 20z\"/>\n",
              "  </svg>\n",
              "      </button>\n",
              "      \n",
              "  <style>\n",
              "    .colab-df-container {\n",
              "      display:flex;\n",
              "      flex-wrap:wrap;\n",
              "      gap: 12px;\n",
              "    }\n",
              "\n",
              "    .colab-df-convert {\n",
              "      background-color: #E8F0FE;\n",
              "      border: none;\n",
              "      border-radius: 50%;\n",
              "      cursor: pointer;\n",
              "      display: none;\n",
              "      fill: #1967D2;\n",
              "      height: 32px;\n",
              "      padding: 0 0 0 0;\n",
              "      width: 32px;\n",
              "    }\n",
              "\n",
              "    .colab-df-convert:hover {\n",
              "      background-color: #E2EBFA;\n",
              "      box-shadow: 0px 1px 2px rgba(60, 64, 67, 0.3), 0px 1px 3px 1px rgba(60, 64, 67, 0.15);\n",
              "      fill: #174EA6;\n",
              "    }\n",
              "\n",
              "    [theme=dark] .colab-df-convert {\n",
              "      background-color: #3B4455;\n",
              "      fill: #D2E3FC;\n",
              "    }\n",
              "\n",
              "    [theme=dark] .colab-df-convert:hover {\n",
              "      background-color: #434B5C;\n",
              "      box-shadow: 0px 1px 3px 1px rgba(0, 0, 0, 0.15);\n",
              "      filter: drop-shadow(0px 1px 2px rgba(0, 0, 0, 0.3));\n",
              "      fill: #FFFFFF;\n",
              "    }\n",
              "  </style>\n",
              "\n",
              "      <script>\n",
              "        const buttonEl =\n",
              "          document.querySelector('#df-396186f8-f0ef-4c99-bca7-d6f0717bd00e button.colab-df-convert');\n",
              "        buttonEl.style.display =\n",
              "          google.colab.kernel.accessAllowed ? 'block' : 'none';\n",
              "\n",
              "        async function convertToInteractive(key) {\n",
              "          const element = document.querySelector('#df-396186f8-f0ef-4c99-bca7-d6f0717bd00e');\n",
              "          const dataTable =\n",
              "            await google.colab.kernel.invokeFunction('convertToInteractive',\n",
              "                                                     [key], {});\n",
              "          if (!dataTable) return;\n",
              "\n",
              "          const docLinkHtml = 'Like what you see? Visit the ' +\n",
              "            '<a target=\"_blank\" href=https://colab.research.google.com/notebooks/data_table.ipynb>data table notebook</a>'\n",
              "            + ' to learn more about interactive tables.';\n",
              "          element.innerHTML = '';\n",
              "          dataTable['output_type'] = 'display_data';\n",
              "          await google.colab.output.renderOutput(dataTable, element);\n",
              "          const docLink = document.createElement('div');\n",
              "          docLink.innerHTML = docLinkHtml;\n",
              "          element.appendChild(docLink);\n",
              "        }\n",
              "      </script>\n",
              "    </div>\n",
              "  </div>\n",
              "  "
            ]
          },
          "metadata": {},
          "execution_count": 79
        }
      ],
      "source": [
        "results.sort_values(['AUC diff', 'Test AUC'], ascending=[True, False])"
      ]
    },
    {
      "cell_type": "code",
      "execution_count": 78,
      "metadata": {
        "id": "QaA-y-Aqeh02"
      },
      "outputs": [],
      "source": [
        ""
      ]
    }
  ],
  "metadata": {
    "kernelspec": {
      "display_name": "Python 3 (ipykernel)",
      "language": "python",
      "name": "python3"
    },
    "language_info": {
      "codemirror_mode": {
        "name": "ipython",
        "version": 3
      },
      "file_extension": ".py",
      "mimetype": "text/x-python",
      "name": "python",
      "nbconvert_exporter": "python",
      "pygments_lexer": "ipython3",
      "version": "3.7.0"
    },
    "colab": {
      "name": "assignment1_01_Word_Vectors.ipynb",
      "provenance": [],
      "collapsed_sections": []
    }
  },
  "nbformat": 4,
  "nbformat_minor": 0
}